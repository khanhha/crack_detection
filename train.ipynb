{
 "cells": [
  {
   "cell_type": "code",
   "execution_count": 1,
   "metadata": {},
   "outputs": [],
   "source": [
    "from tensorflow.keras.layers  import Input, Conv2D, BatchNormalization, Dropout, Dense, MaxPooling2D, Flatten\n",
    "from tensorflow.keras.initializers import glorot_normal \n",
    "from tensorflow.keras import Model\n",
    "from tensorflow.keras.callbacks import ModelCheckpoint\n",
    "from sklearn.model_selection import ShuffleSplit\n",
    "import numpy as np\n",
    "import pickle\n",
    "import argparse\n",
    "from pathlib import Path"
   ]
  },
  {
   "cell_type": "code",
   "execution_count": 2,
   "metadata": {},
   "outputs": [],
   "source": [
    "import numpy as np\n",
    "import tensorflow.keras as keras\n",
    "class DataGenerator(keras.utils.Sequence):\n",
    "    'Generates data for Keras'\n",
    "    def __init__(self, SAMPLE_DIR, TARGET_DIR, list_IDs, batch_size=32, dim=(27,27), n_channels=1, n_classes=25, shuffle=True):\n",
    "        'Initialization'\n",
    "        self.dim = dim\n",
    "        self.batch_size = batch_size\n",
    "        self.list_IDs = list_IDs\n",
    "        self.SAMPLE_DIR = SAMPLE_DIR\n",
    "        self.TARGET_DIR = TARGET_DIR\n",
    "        self.n_channels = n_channels\n",
    "        self.n_classes = n_classes\n",
    "        self.shuffle = shuffle\n",
    "\n",
    "        self.on_epoch_end()\n",
    "\n",
    "    def __len__(self):\n",
    "        'Denotes the number of batches per epoch'\n",
    "        return int(np.floor(len(self.list_IDs) / self.batch_size))\n",
    "\n",
    "    def __getitem__(self, index):\n",
    "        'Generate one batch of data'\n",
    "        # Generate indexes of the batch\n",
    "        indexes = self.indexes[index*self.batch_size:(index+1)*self.batch_size]\n",
    "\n",
    "        # Find list of IDs\n",
    "        list_IDs_temp = [self.list_IDs[k] for k in indexes]\n",
    "\n",
    "        # Generate data\n",
    "        X, y = self.__data_generation(list_IDs_temp)\n",
    "\n",
    "        return X, y\n",
    "\n",
    "    def on_epoch_end(self):\n",
    "        'Updates indexes after each epoch'\n",
    "        self.indexes = np.arange(len(self.list_IDs))\n",
    "        if self.shuffle == True:\n",
    "            np.random.shuffle(self.indexes)\n",
    "\n",
    "    def __data_generation(self, list_IDs_temp):\n",
    "        'Generates data containing batch_size samples' # X : (n_samples, *dim, n_channels)\n",
    "        # Initialization\n",
    "        X = np.empty((self.batch_size, *self.dim, self.n_channels))\n",
    "        y = np.empty((self.batch_size, self.n_classes))\n",
    "\n",
    "        # Generate data\n",
    "        for i, ID in enumerate(list_IDs_temp):\n",
    "            # Store sample\n",
    "            X[i,] = np.load(f'{self.SAMPLE_DIR}{ID}')\n",
    "\n",
    "            # Store class\n",
    "            y[i] = np.load(f'{self.TARGET_DIR}{ID}')\n",
    "\n",
    "        return X, y"
   ]
  },
  {
   "cell_type": "code",
   "execution_count": 3,
   "metadata": {},
   "outputs": [],
   "source": [
    "IN_DIR = '/home/khanhhh/data_1/courses/practical_project_1/codes/dataset/forest_processed/'\n",
    "TEST_DIR = '/home/khanhhh/data_1/courses/practical_project_1/codes/dataset/forest/test_images/'\n",
    "SAMPLE_DIR = f'{IN_DIR}samples/'\n",
    "MASK_DIR = f'{IN_DIR}masks/'"
   ]
  },
  {
   "cell_type": "code",
   "execution_count": 4,
   "metadata": {
    "scrolled": true
   },
   "outputs": [
    {
     "name": "stdout",
     "output_type": "stream",
     "text": [
      "737645 327843\n",
      "train sampes: 737645, valid sampes: 245882, test sampes: 327843\n"
     ]
    }
   ],
   "source": [
    "sample_names = [path.name for path in Path(SAMPLE_DIR).glob('*.*')]\n",
    "n_samples = len(sample_names)\n",
    "rs = ShuffleSplit(n_splits=2, test_size=0.25, random_state=0)\n",
    "train_index, test_index = next(rs.split(np.arange(n_samples)))\n",
    "\n",
    "rs = ShuffleSplit(n_splits=2, test_size=0.25, random_state=0)\n",
    "train_index, valid_index = next(rs.split(train_index))\n",
    "\n",
    "print(len(train_index), len(test_index))\n",
    "train_names = [sample_names[idx] for idx in train_index]\n",
    "valid_names = [sample_names[idx] for idx in valid_index]\n",
    "test_names =  [sample_names[idx] for idx in test_index]\n",
    "print(f'train sampes: {len(train_names)}, valid sampes: {len(valid_names)}, test sampes: {len(test_names)}')"
   ]
  },
  {
   "cell_type": "code",
   "execution_count": 5,
   "metadata": {},
   "outputs": [],
   "source": [
    "train_gen = DataGenerator(SAMPLE_DIR, MASK_DIR, train_names, batch_size = 256, dim=(27,27), n_channels=3)\n",
    "valid_gen = DataGenerator(SAMPLE_DIR, MASK_DIR, valid_names, batch_size = 256, dim=(27,27), n_channels=3)"
   ]
  },
  {
   "cell_type": "code",
   "execution_count": 15,
   "metadata": {},
   "outputs": [],
   "source": [
    "def create_model():\n",
    "    input = Input(shape=(27,27,3))\n",
    "    x = Conv2D(filters=16, kernel_size=3, strides=1, padding='same', activation='relu',\n",
    "                kernel_initializer='glorot_normal')(input)\n",
    "    x = BatchNormalization()(x)\n",
    "    \n",
    "    x = Conv2D(filters=16, kernel_size=3, strides=1, padding='same', activation='relu',\n",
    "               kernel_initializer='glorot_normal')(x)\n",
    "    x = BatchNormalization()(x)\n",
    "    \n",
    "    x = MaxPooling2D(pool_size=2, strides=2, padding='same')(x)\n",
    "\n",
    "    x = Conv2D(filters=32, kernel_size=3, strides=1, padding='same', activation='relu',\n",
    "               kernel_initializer='glorot_normal')(x)\n",
    "    x = BatchNormalization()(x)\n",
    "    \n",
    "    x = Conv2D(filters=32, kernel_size=3, strides=1, padding='same', activation='relu',\n",
    "               kernel_initializer='glorot_normal')(x)\n",
    "    x = BatchNormalization()(x)\n",
    "\n",
    "    x = MaxPooling2D(pool_size=2, strides=2, padding='same')(x)\n",
    "    x = Flatten()(x)\n",
    "    x = Dense(64, activation='relu',  kernel_initializer='glorot_normal')(x)\n",
    "    x = Dropout(0.5)(x)\n",
    "    x = Dense(64, activation='relu',  kernel_initializer='glorot_normal')(x)\n",
    "    x = Dropout(0.5)(x)\n",
    "    x = Dense(25, activation='sigmoid',  kernel_initializer='glorot_normal')(x)\n",
    "\n",
    "    model = Model(inputs = input, outputs = x)\n",
    "    model.compile(loss='binary_crossentropy', optimizer='adam', metrics=['accuracy'])\n",
    "\n",
    "    print(model.summary())\n",
    "\n",
    "    return model"
   ]
  },
  {
   "cell_type": "code",
   "execution_count": 16,
   "metadata": {
    "scrolled": true
   },
   "outputs": [
    {
     "name": "stdout",
     "output_type": "stream",
     "text": [
      "_________________________________________________________________\n",
      "Layer (type)                 Output Shape              Param #   \n",
      "=================================================================\n",
      "input_2 (InputLayer)         (None, 27, 27, 3)         0         \n",
      "_________________________________________________________________\n",
      "conv2d_4 (Conv2D)            (None, 27, 27, 16)        448       \n",
      "_________________________________________________________________\n",
      "batch_normalization_4 (Batch (None, 27, 27, 16)        64        \n",
      "_________________________________________________________________\n",
      "conv2d_5 (Conv2D)            (None, 27, 27, 16)        2320      \n",
      "_________________________________________________________________\n",
      "batch_normalization_5 (Batch (None, 27, 27, 16)        64        \n",
      "_________________________________________________________________\n",
      "max_pooling2d_2 (MaxPooling2 (None, 14, 14, 16)        0         \n",
      "_________________________________________________________________\n",
      "conv2d_6 (Conv2D)            (None, 14, 14, 32)        4640      \n",
      "_________________________________________________________________\n",
      "batch_normalization_6 (Batch (None, 14, 14, 32)        128       \n",
      "_________________________________________________________________\n",
      "conv2d_7 (Conv2D)            (None, 14, 14, 32)        9248      \n",
      "_________________________________________________________________\n",
      "batch_normalization_7 (Batch (None, 14, 14, 32)        128       \n",
      "_________________________________________________________________\n",
      "max_pooling2d_3 (MaxPooling2 (None, 7, 7, 32)          0         \n",
      "_________________________________________________________________\n",
      "flatten_1 (Flatten)          (None, 1568)              0         \n",
      "_________________________________________________________________\n",
      "dense_3 (Dense)              (None, 64)                100416    \n",
      "_________________________________________________________________\n",
      "dropout_2 (Dropout)          (None, 64)                0         \n",
      "_________________________________________________________________\n",
      "dense_4 (Dense)              (None, 64)                4160      \n",
      "_________________________________________________________________\n",
      "dropout_3 (Dropout)          (None, 64)                0         \n",
      "_________________________________________________________________\n",
      "dense_5 (Dense)              (None, 25)                1625      \n",
      "=================================================================\n",
      "Total params: 123,241\n",
      "Trainable params: 123,049\n",
      "Non-trainable params: 192\n",
      "_________________________________________________________________\n",
      "None\n"
     ]
    }
   ],
   "source": [
    "model = create_model()"
   ]
  },
  {
   "cell_type": "code",
   "execution_count": 22,
   "metadata": {},
   "outputs": [],
   "source": [
    "weight_path = f'{IN_DIR}/best_weight.hdf5'\n",
    "check_point = ModelCheckpoint(weight_path, monitor='val_loss',verbose=1, save_best_only=True)\n",
    "n_epochs = 50"
   ]
  },
  {
   "cell_type": "code",
   "execution_count": 18,
   "metadata": {
    "scrolled": true
   },
   "outputs": [
    {
     "name": "stdout",
     "output_type": "stream",
     "text": [
      "Epoch 1/50\n",
      "2880/2881 [============================>.] - ETA: 0s - loss: 0.2503 - acc: 0.8846Epoch 1/50\n",
      "\n",
      "Epoch 00001: val_loss improved from inf to 0.29083, saving model to /home/khanhhh/data_1/courses/practical_project_1/codes/dataset/forest_processed//best_weight.hdf5\n",
      "2881/2881 [==============================] - 123s 43ms/step - loss: 0.2503 - acc: 0.8846 - val_loss: 0.2908 - val_acc: 0.8811\n",
      "Epoch 2/50\n",
      "2878/2881 [============================>.] - ETA: 0s - loss: 0.1685 - acc: 0.9320\n",
      "Epoch 00002: val_loss improved from 0.29083 to 0.14793, saving model to /home/khanhhh/data_1/courses/practical_project_1/codes/dataset/forest_processed//best_weight.hdf5\n",
      "2881/2881 [==============================] - 121s 42ms/step - loss: 0.1685 - acc: 0.9320 - val_loss: 0.1479 - val_acc: 0.9394\n",
      "Epoch 3/50\n",
      "2879/2881 [============================>.] - ETA: 0s - loss: 0.1373 - acc: 0.9458\n",
      "Epoch 00003: val_loss did not improve from 0.14793\n",
      "2881/2881 [==============================] - 123s 43ms/step - loss: 0.1373 - acc: 0.9458 - val_loss: 0.3314 - val_acc: 0.9152\n",
      "Epoch 4/50\n",
      "2880/2881 [============================>.] - ETA: 0s - loss: 0.1230 - acc: 0.9516\n",
      "Epoch 00004: val_loss did not improve from 0.14793\n",
      "2881/2881 [==============================] - 122s 43ms/step - loss: 0.1230 - acc: 0.9516 - val_loss: 0.4699 - val_acc: 0.9083\n",
      "Epoch 5/50\n",
      "2878/2881 [============================>.] - ETA: 0s - loss: 0.1153 - acc: 0.9545\n",
      "Epoch 00005: val_loss did not improve from 0.14793\n",
      "2881/2881 [==============================] - 122s 42ms/step - loss: 0.1153 - acc: 0.9545 - val_loss: 0.2953 - val_acc: 0.9223\n",
      "Epoch 6/50\n",
      "2880/2881 [============================>.] - ETA: 0s - loss: 0.1104 - acc: 0.9562\n",
      "Epoch 00006: val_loss did not improve from 0.14793\n",
      "2881/2881 [==============================] - 122s 42ms/step - loss: 0.1104 - acc: 0.9562 - val_loss: 0.1646 - val_acc: 0.9453\n",
      "Epoch 7/50\n",
      "2879/2881 [============================>.] - ETA: 0s - loss: 0.1067 - acc: 0.9575\n",
      "Epoch 00007: val_loss did not improve from 0.14793\n",
      "2881/2881 [==============================] - 122s 42ms/step - loss: 0.1067 - acc: 0.9575 - val_loss: 0.1807 - val_acc: 0.9440\n",
      "Epoch 8/50\n",
      "2880/2881 [============================>.] - ETA: 0s - loss: 0.1043 - acc: 0.9583\n",
      "Epoch 00008: val_loss did not improve from 0.14793\n",
      "2881/2881 [==============================] - 122s 43ms/step - loss: 0.1043 - acc: 0.9583 - val_loss: 0.3729 - val_acc: 0.8984\n",
      "Epoch 9/50\n",
      "2880/2881 [============================>.] - ETA: 0s - loss: 0.1017 - acc: 0.9593\n",
      "Epoch 00009: val_loss improved from 0.14793 to 0.09507, saving model to /home/khanhhh/data_1/courses/practical_project_1/codes/dataset/forest_processed//best_weight.hdf5\n",
      "2881/2881 [==============================] - 121s 42ms/step - loss: 0.1017 - acc: 0.9593 - val_loss: 0.0951 - val_acc: 0.9613\n",
      "Epoch 10/50\n",
      "2879/2881 [============================>.] - ETA: 0s - loss: 0.0997 - acc: 0.9599\n",
      "Epoch 00010: val_loss did not improve from 0.09507\n",
      "2881/2881 [==============================] - 121s 42ms/step - loss: 0.0997 - acc: 0.9599 - val_loss: 0.1327 - val_acc: 0.9496\n",
      "Epoch 11/50\n",
      "2880/2881 [============================>.] - ETA: 0s - loss: 0.0984 - acc: 0.9603\n",
      "Epoch 00011: val_loss did not improve from 0.09507\n",
      "2881/2881 [==============================] - 123s 43ms/step - loss: 0.0984 - acc: 0.9603 - val_loss: 0.4775 - val_acc: 0.9118\n",
      "Epoch 12/50\n",
      "2877/2881 [============================>.] - ETA: 0s - loss: 0.0972 - acc: 0.9607\n",
      "Epoch 00012: val_loss did not improve from 0.09507\n",
      "2881/2881 [==============================] - 122s 42ms/step - loss: 0.0972 - acc: 0.9607 - val_loss: 0.6333 - val_acc: 0.9070\n",
      "Epoch 13/50\n",
      "2880/2881 [============================>.] - ETA: 0s - loss: 0.0956 - acc: 0.9613\n",
      "Epoch 00013: val_loss did not improve from 0.09507\n",
      "2881/2881 [==============================] - 122s 42ms/step - loss: 0.0955 - acc: 0.9613 - val_loss: 0.3103 - val_acc: 0.9315\n",
      "Epoch 14/50\n",
      "2879/2881 [============================>.] - ETA: 0s - loss: 0.0947 - acc: 0.9616\n",
      "Epoch 00014: val_loss did not improve from 0.09507\n",
      "2881/2881 [==============================] - 122s 42ms/step - loss: 0.0947 - acc: 0.9616 - val_loss: 0.1149 - val_acc: 0.9549\n",
      "Epoch 15/50\n",
      "2880/2881 [============================>.] - ETA: 0s - loss: 0.0934 - acc: 0.9620\n",
      "Epoch 00015: val_loss did not improve from 0.09507\n",
      "2881/2881 [==============================] - 122s 42ms/step - loss: 0.0934 - acc: 0.9620 - val_loss: 0.4223 - val_acc: 0.9240\n",
      "Epoch 16/50\n",
      "2880/2881 [============================>.] - ETA: 0s - loss: 0.0923 - acc: 0.9624\n",
      "Epoch 00016: val_loss improved from 0.09507 to 0.08843, saving model to /home/khanhhh/data_1/courses/practical_project_1/codes/dataset/forest_processed//best_weight.hdf5\n",
      "2881/2881 [==============================] - 123s 43ms/step - loss: 0.0923 - acc: 0.9624 - val_loss: 0.0884 - val_acc: 0.9649\n",
      "Epoch 17/50\n",
      "2879/2881 [============================>.] - ETA: 0s - loss: 0.0919 - acc: 0.9626\n",
      "Epoch 00017: val_loss did not improve from 0.08843\n",
      "2881/2881 [==============================] - 122s 42ms/step - loss: 0.0919 - acc: 0.9626 - val_loss: 0.5863 - val_acc: 0.9120\n",
      "Epoch 18/50\n",
      "2879/2881 [============================>.] - ETA: 0s - loss: 0.0911 - acc: 0.9629\n",
      "Epoch 00018: val_loss did not improve from 0.08843\n",
      "2881/2881 [==============================] - 123s 43ms/step - loss: 0.0911 - acc: 0.9629 - val_loss: 0.5044 - val_acc: 0.9048\n",
      "Epoch 19/50\n",
      "2880/2881 [============================>.] - ETA: 0s - loss: 0.0899 - acc: 0.9633\n",
      "Epoch 00019: val_loss improved from 0.08843 to 0.08755, saving model to /home/khanhhh/data_1/courses/practical_project_1/codes/dataset/forest_processed//best_weight.hdf5\n",
      "2881/2881 [==============================] - 123s 43ms/step - loss: 0.0899 - acc: 0.9633 - val_loss: 0.0875 - val_acc: 0.9638\n",
      "Epoch 20/50\n",
      "2878/2881 [============================>.] - ETA: 0s - loss: 0.0892 - acc: 0.9635\n",
      "Epoch 00020: val_loss did not improve from 0.08755\n",
      "2881/2881 [==============================] - 122s 42ms/step - loss: 0.0892 - acc: 0.9635 - val_loss: 0.4023 - val_acc: 0.9206\n",
      "Epoch 21/50\n",
      "2877/2881 [============================>.] - ETA: 0s - loss: 0.0889 - acc: 0.9636\n",
      "Epoch 00021: val_loss did not improve from 0.08755\n",
      "2881/2881 [==============================] - 122s 42ms/step - loss: 0.0889 - acc: 0.9636 - val_loss: 0.1232 - val_acc: 0.9491\n",
      "Epoch 22/50\n",
      "2879/2881 [============================>.] - ETA: 0s - loss: 0.0880 - acc: 0.9640\n",
      "Epoch 00022: val_loss did not improve from 0.08755\n",
      "2881/2881 [==============================] - 122s 42ms/step - loss: 0.0880 - acc: 0.9640 - val_loss: 0.2184 - val_acc: 0.9366\n",
      "Epoch 23/50\n",
      "2879/2881 [============================>.] - ETA: 0s - loss: 0.0883 - acc: 0.9638\n",
      "Epoch 00023: val_loss did not improve from 0.08755\n",
      "2881/2881 [==============================] - 123s 43ms/step - loss: 0.0883 - acc: 0.9638 - val_loss: 0.1738 - val_acc: 0.9524\n",
      "Epoch 24/50\n",
      "2878/2881 [============================>.] - ETA: 0s - loss: 0.0871 - acc: 0.9643\n",
      "Epoch 00024: val_loss improved from 0.08755 to 0.08553, saving model to /home/khanhhh/data_1/courses/practical_project_1/codes/dataset/forest_processed//best_weight.hdf5\n",
      "2881/2881 [==============================] - 122s 42ms/step - loss: 0.0870 - acc: 0.9643 - val_loss: 0.0855 - val_acc: 0.9653\n",
      "Epoch 25/50\n",
      "2878/2881 [============================>.] - ETA: 0s - loss: 0.0870 - acc: 0.9643\n",
      "Epoch 00025: val_loss did not improve from 0.08553\n",
      "2881/2881 [==============================] - 122s 42ms/step - loss: 0.0870 - acc: 0.9643 - val_loss: 0.0906 - val_acc: 0.9646\n",
      "Epoch 26/50\n",
      "2877/2881 [============================>.] - ETA: 0s - loss: 0.0866 - acc: 0.9644\n",
      "Epoch 00026: val_loss improved from 0.08553 to 0.07316, saving model to /home/khanhhh/data_1/courses/practical_project_1/codes/dataset/forest_processed//best_weight.hdf5\n",
      "2881/2881 [==============================] - 124s 43ms/step - loss: 0.0866 - acc: 0.9644 - val_loss: 0.0732 - val_acc: 0.9701\n",
      "Epoch 27/50\n",
      "2880/2881 [============================>.] - ETA: 0s - loss: 0.0860 - acc: 0.9648\n",
      "Epoch 00027: val_loss did not improve from 0.07316\n",
      "2881/2881 [==============================] - 123s 43ms/step - loss: 0.0860 - acc: 0.9648 - val_loss: 0.1483 - val_acc: 0.9524\n",
      "Epoch 28/50\n"
     ]
    },
    {
     "name": "stdout",
     "output_type": "stream",
     "text": [
      "2880/2881 [============================>.] - ETA: 0s - loss: 0.0857 - acc: 0.9648\n",
      "Epoch 00028: val_loss did not improve from 0.07316\n",
      "2881/2881 [==============================] - 123s 43ms/step - loss: 0.0857 - acc: 0.9648 - val_loss: 0.7733 - val_acc: 0.9041\n",
      "Epoch 29/50\n",
      "2879/2881 [============================>.] - ETA: 0s - loss: 0.0855 - acc: 0.9648\n",
      "Epoch 00029: val_loss did not improve from 0.07316\n",
      "2881/2881 [==============================] - 121s 42ms/step - loss: 0.0855 - acc: 0.9648 - val_loss: 0.0897 - val_acc: 0.9640\n",
      "Epoch 30/50\n",
      "2878/2881 [============================>.] - ETA: 0s - loss: 0.0849 - acc: 0.9651\n",
      "Epoch 00030: val_loss did not improve from 0.07316\n",
      "2881/2881 [==============================] - 121s 42ms/step - loss: 0.0849 - acc: 0.9651 - val_loss: 0.6416 - val_acc: 0.9172\n",
      "Epoch 31/50\n",
      "2880/2881 [============================>.] - ETA: 0s - loss: 0.0847 - acc: 0.9651\n",
      "Epoch 00031: val_loss did not improve from 0.07316\n",
      "2881/2881 [==============================] - 121s 42ms/step - loss: 0.0847 - acc: 0.9651 - val_loss: 0.1286 - val_acc: 0.9549\n",
      "Epoch 32/50\n",
      "2879/2881 [============================>.] - ETA: 0s - loss: 0.0846 - acc: 0.9652\n",
      "Epoch 00032: val_loss did not improve from 0.07316\n",
      "2881/2881 [==============================] - 121s 42ms/step - loss: 0.0846 - acc: 0.9652 - val_loss: 0.0788 - val_acc: 0.9677\n",
      "Epoch 33/50\n",
      "2879/2881 [============================>.] - ETA: 0s - loss: 0.0840 - acc: 0.9654\n",
      "Epoch 00033: val_loss did not improve from 0.07316\n",
      "2881/2881 [==============================] - 123s 43ms/step - loss: 0.0841 - acc: 0.9654 - val_loss: 0.2155 - val_acc: 0.9490\n",
      "Epoch 34/50\n",
      "2877/2881 [============================>.] - ETA: 0s - loss: 0.0844 - acc: 0.9653\n",
      "Epoch 00034: val_loss did not improve from 0.07316\n",
      "2881/2881 [==============================] - 123s 43ms/step - loss: 0.0844 - acc: 0.9653 - val_loss: 0.2101 - val_acc: 0.9453\n",
      "Epoch 35/50\n",
      "2878/2881 [============================>.] - ETA: 0s - loss: 0.0836 - acc: 0.9655\n",
      "Epoch 00035: val_loss did not improve from 0.07316\n",
      "2881/2881 [==============================] - 124s 43ms/step - loss: 0.0836 - acc: 0.9655 - val_loss: 0.1249 - val_acc: 0.9605\n",
      "Epoch 36/50\n",
      "2878/2881 [============================>.] - ETA: 0s - loss: 0.0830 - acc: 0.9658\n",
      "Epoch 00036: val_loss did not improve from 0.07316\n",
      "2881/2881 [==============================] - 123s 43ms/step - loss: 0.0830 - acc: 0.9658 - val_loss: 0.0871 - val_acc: 0.9635\n",
      "Epoch 37/50\n",
      "2880/2881 [============================>.] - ETA: 0s - loss: 0.0831 - acc: 0.9658\n",
      "Epoch 00037: val_loss did not improve from 0.07316\n",
      "2881/2881 [==============================] - 123s 43ms/step - loss: 0.0831 - acc: 0.9658 - val_loss: 0.3838 - val_acc: 0.9270\n",
      "Epoch 38/50\n",
      "2878/2881 [============================>.] - ETA: 0s - loss: 0.0830 - acc: 0.9658\n",
      "Epoch 00038: val_loss did not improve from 0.07316\n",
      "2881/2881 [==============================] - 123s 43ms/step - loss: 0.0830 - acc: 0.9658 - val_loss: 0.4700 - val_acc: 0.9228\n",
      "Epoch 39/50\n",
      "2877/2881 [============================>.] - ETA: 0s - loss: 0.0824 - acc: 0.9660\n",
      "Epoch 00039: val_loss did not improve from 0.07316\n",
      "2881/2881 [==============================] - 123s 43ms/step - loss: 0.0825 - acc: 0.9660 - val_loss: 0.1227 - val_acc: 0.9588\n",
      "Epoch 40/50\n",
      "2880/2881 [============================>.] - ETA: 0s - loss: 0.0826 - acc: 0.9659\n",
      "Epoch 00040: val_loss did not improve from 0.07316\n",
      "2881/2881 [==============================] - 123s 43ms/step - loss: 0.0826 - acc: 0.9659 - val_loss: 0.0757 - val_acc: 0.9693\n",
      "Epoch 41/50\n",
      "2880/2881 [============================>.] - ETA: 0s - loss: 0.0822 - acc: 0.9661\n",
      "Epoch 00041: val_loss did not improve from 0.07316\n",
      "2881/2881 [==============================] - 123s 43ms/step - loss: 0.0822 - acc: 0.9661 - val_loss: 0.0956 - val_acc: 0.9605\n",
      "Epoch 42/50\n",
      "2879/2881 [============================>.] - ETA: 0s - loss: 0.0819 - acc: 0.9662\n",
      "Epoch 00042: val_loss did not improve from 0.07316\n",
      "2881/2881 [==============================] - 128s 44ms/step - loss: 0.0819 - acc: 0.9662 - val_loss: 0.1248 - val_acc: 0.9612\n",
      "Epoch 43/50\n",
      "2880/2881 [============================>.] - ETA: 0s - loss: 0.0821 - acc: 0.9661\n",
      "Epoch 00043: val_loss did not improve from 0.07316\n",
      "2881/2881 [==============================] - 142s 49ms/step - loss: 0.0821 - acc: 0.9661 - val_loss: 0.8726 - val_acc: 0.9053\n",
      "Epoch 44/50\n",
      "2878/2881 [============================>.] - ETA: 0s - loss: 0.0820 - acc: 0.9661\n",
      "Epoch 00044: val_loss did not improve from 0.07316\n",
      "2881/2881 [==============================] - 136s 47ms/step - loss: 0.0820 - acc: 0.9661 - val_loss: 0.0920 - val_acc: 0.9653\n",
      "Epoch 45/50\n",
      "2879/2881 [============================>.] - ETA: 0s - loss: 0.0814 - acc: 0.9663\n",
      "Epoch 00045: val_loss did not improve from 0.07316\n",
      "2881/2881 [==============================] - 123s 43ms/step - loss: 0.0814 - acc: 0.9663 - val_loss: 0.4132 - val_acc: 0.8909\n",
      "Epoch 46/50\n",
      "2879/2881 [============================>.] - ETA: 0s - loss: 0.0816 - acc: 0.9663\n",
      "Epoch 00046: val_loss did not improve from 0.07316\n",
      "2881/2881 [==============================] - 124s 43ms/step - loss: 0.0816 - acc: 0.9663 - val_loss: 0.0801 - val_acc: 0.9668\n",
      "Epoch 47/50\n",
      "2880/2881 [============================>.] - ETA: 0s - loss: 0.0811 - acc: 0.9664\n",
      "Epoch 00047: val_loss did not improve from 0.07316\n",
      "2881/2881 [==============================] - 124s 43ms/step - loss: 0.0811 - acc: 0.9664 - val_loss: 0.1576 - val_acc: 0.9512\n",
      "Epoch 48/50\n",
      "2879/2881 [============================>.] - ETA: 0s - loss: 0.0811 - acc: 0.9665\n",
      "Epoch 00048: val_loss did not improve from 0.07316\n",
      "2881/2881 [==============================] - 124s 43ms/step - loss: 0.0811 - acc: 0.9665 - val_loss: 0.9362 - val_acc: 0.9044\n",
      "Epoch 49/50\n",
      "2877/2881 [============================>.] - ETA: 0s - loss: 0.0812 - acc: 0.9664\n",
      "Epoch 00049: val_loss improved from 0.07316 to 0.06558, saving model to /home/khanhhh/data_1/courses/practical_project_1/codes/dataset/forest_processed//best_weight.hdf5\n",
      "2881/2881 [==============================] - 125s 43ms/step - loss: 0.0812 - acc: 0.9664 - val_loss: 0.0656 - val_acc: 0.9720\n",
      "Epoch 50/50\n",
      "2879/2881 [============================>.] - ETA: 0s - loss: 0.0806 - acc: 0.9666\n",
      "Epoch 00050: val_loss did not improve from 0.06558\n",
      "2881/2881 [==============================] - 122s 43ms/step - loss: 0.0806 - acc: 0.9666 - val_loss: 0.3258 - val_acc: 0.9443\n"
     ]
    }
   ],
   "source": [
    "hist = model.fit_generator(generator=train_gen, validation_data=valid_gen, \n",
    "                           use_multiprocessing=True, workers=6, callbacks=[check_point], epochs = n_epochs)"
   ]
  },
  {
   "cell_type": "code",
   "execution_count": 33,
   "metadata": {
    "scrolled": false
   },
   "outputs": [
    {
     "data": {
      "text/plain": [
       "<matplotlib.legend.Legend at 0x7fd73aa82940>"
      ]
     },
     "execution_count": 33,
     "metadata": {},
     "output_type": "execute_result"
    },
    {
     "data": {
      "image/png": "[encoded data removed]",
      "text/plain": [
       "<Figure size 432x288 with 1 Axes>"
      ]
     },
     "metadata": {
      "needs_background": "light"
     },
     "output_type": "display_data"
    }
   ],
   "source": [
    "import matplotlib.pyplot as plt\n",
    "hist.history['loss']\n",
    "plt.plot(np.arange(n_epochs), hist.history['loss'], 'r', label = 'loss')\n",
    "plt.plot(np.arange(n_epochs), hist.history['val_loss'],'b', label = 'validation loss')\n",
    "plt.legend()"
   ]
  },
  {
   "cell_type": "markdown",
   "metadata": {},
   "source": [
    "# measure accuracy"
   ]
  },
  {
   "cell_type": "code",
   "execution_count": 28,
   "metadata": {},
   "outputs": [],
   "source": [
    "weight_path = '/home/khanhhh/data_1/courses/practical_project_1/codes/dataset/forest_processed/best_weight.hdf5'"
   ]
  },
  {
   "cell_type": "code",
   "execution_count": 29,
   "metadata": {},
   "outputs": [
    {
     "name": "stdout",
     "output_type": "stream",
     "text": [
      "_________________________________________________________________\n",
      "Layer (type)                 Output Shape              Param #   \n",
      "=================================================================\n",
      "input_4 (InputLayer)         (None, 27, 27, 3)         0         \n",
      "_________________________________________________________________\n",
      "conv2d_12 (Conv2D)           (None, 27, 27, 16)        448       \n",
      "_________________________________________________________________\n",
      "batch_normalization_12 (Batc (None, 27, 27, 16)        64        \n",
      "_________________________________________________________________\n",
      "conv2d_13 (Conv2D)           (None, 27, 27, 16)        2320      \n",
      "_________________________________________________________________\n",
      "batch_normalization_13 (Batc (None, 27, 27, 16)        64        \n",
      "_________________________________________________________________\n",
      "max_pooling2d_6 (MaxPooling2 (None, 14, 14, 16)        0         \n",
      "_________________________________________________________________\n",
      "conv2d_14 (Conv2D)           (None, 14, 14, 32)        4640      \n",
      "_________________________________________________________________\n",
      "batch_normalization_14 (Batc (None, 14, 14, 32)        128       \n",
      "_________________________________________________________________\n",
      "conv2d_15 (Conv2D)           (None, 14, 14, 32)        9248      \n",
      "_________________________________________________________________\n",
      "batch_normalization_15 (Batc (None, 14, 14, 32)        128       \n",
      "_________________________________________________________________\n",
      "max_pooling2d_7 (MaxPooling2 (None, 7, 7, 32)          0         \n",
      "_________________________________________________________________\n",
      "flatten_3 (Flatten)          (None, 1568)              0         \n",
      "_________________________________________________________________\n",
      "dense_9 (Dense)              (None, 64)                100416    \n",
      "_________________________________________________________________\n",
      "dropout_6 (Dropout)          (None, 64)                0         \n",
      "_________________________________________________________________\n",
      "dense_10 (Dense)             (None, 64)                4160      \n",
      "_________________________________________________________________\n",
      "dropout_7 (Dropout)          (None, 64)                0         \n",
      "_________________________________________________________________\n",
      "dense_11 (Dense)             (None, 25)                1625      \n",
      "=================================================================\n",
      "Total params: 123,241\n",
      "Trainable params: 123,049\n",
      "Non-trainable params: 192\n",
      "_________________________________________________________________\n",
      "None\n"
     ]
    }
   ],
   "source": [
    "model = create_model()\n",
    "model.load_weights(weight_path)"
   ]
  },
  {
   "cell_type": "code",
   "execution_count": 30,
   "metadata": {},
   "outputs": [
    {
     "name": "stdout",
     "output_type": "stream",
     "text": [
      "1280/1280 [==============================] - 364s 285ms/step\n"
     ]
    }
   ],
   "source": [
    "test_gen = DataGenerator(SAMPLE_DIR, MASK_DIR, list_IDs=test_names,  batch_size = 256, dim=(27,27), n_channels=3)\n",
    "acc = model.evaluate_generator(test_gen, steps=len(test_gen), verbose=1)"
   ]
  },
  {
   "cell_type": "code",
   "execution_count": 32,
   "metadata": {
    "scrolled": true
   },
   "outputs": [
    {
     "name": "stdout",
     "output_type": "stream",
     "text": [
      "loss = 0.06365633502427955, accuracy = 0.9727100955322385\n"
     ]
    }
   ],
   "source": [
    "test_loss, test_acc = acc\n",
    "print(f'loss = {test_loss}, accuracy = {test_acc}')"
   ]
  },
  {
   "cell_type": "markdown",
   "metadata": {},
   "source": [
    "# inference on a single test image"
   ]
  },
  {
   "cell_type": "code",
   "execution_count": 34,
   "metadata": {},
   "outputs": [],
   "source": [
    "def extract_patch(img, h):\n",
    "    patches = []\n",
    "    patch_locs = []\n",
    "    for i in range(h, img.shape[0]-h-1):\n",
    "        for j in range(h, img.shape[1]-h-1):\n",
    "            patch = img[i-h:i+h+1, j-h:j+h+1, :]\n",
    "            if patch.shape != (2*h+1, 2*h+1, 3):\n",
    "                print(patch.shape)\n",
    "            patch = (patch.astype(np.float32))/255.0\n",
    "            patches.append(patch)\n",
    "            patch_locs.append((i,j))\n",
    "    return patches, patch_locs\n",
    "\n",
    "def upsample_patch_predict(patch_pred, patch_locs, img_shape, h):\n",
    "    img = np.zeros(img_shape[:2], dtype=np.float32)\n",
    "    pred_size = 5\n",
    "    patch_pred = patch_pred.reshape(patch_pred.shape[0], pred_size, pred_size)\n",
    "    for idx, loc in enumerate(patch_locs):\n",
    "        i = loc[0]\n",
    "        j = loc[1]\n",
    "        pred = patch_pred[idx, :, :]\n",
    "        #print(pred)\n",
    "        s = np.sum(pred[:])\n",
    "        img[i,j] = s\n",
    "    img = ( img - img.min()) / (img.max() - img.min())\n",
    "    img = (img * 255.0).astype(np.uint8)\n",
    "    return img\n",
    "\n",
    "def predict_upsample(model, sample):\n",
    "    pred = model.predict(np.expand_dims(sample, axis=0))\n",
    "    pred = pred.reshape(5,5)\n",
    "    pred = cv.resize(pred, (27,27))\n",
    "    return pred"
   ]
  },
  {
   "cell_type": "code",
   "execution_count": 35,
   "metadata": {
    "scrolled": false
   },
   "outputs": [
    {
     "name": "stdout",
     "output_type": "stream",
     "text": [
      "/home/khanhhh/data_1/courses/practical_project_1/codes/dataset/forest/test_images/309.jpg\n",
      "/home/khanhhh/data_1/courses/practical_project_1/codes/dataset/forest/test_images/313.jpg\n"
     ]
    },
    {
     "name": "stderr",
     "output_type": "stream",
     "text": [
      "/home/khanhhh/anaconda3/envs/tf/lib/python3.6/site-packages/matplotlib/cbook/deprecation.py:107: MatplotlibDeprecationWarning: Adding an axes using the same arguments as a previous axes currently reuses the earlier instance.  In a future version, a new instance will always be created and returned.  Meanwhile, this warning can be suppressed, and the future behavior ensured, by passing a unique label to each axes instance.\n",
      "  warnings.warn(message, mplDeprecation, stacklevel=1)\n"
     ]
    },
    {
     "name": "stdout",
     "output_type": "stream",
     "text": [
      "/home/khanhhh/data_1/courses/practical_project_1/codes/dataset/forest/test_images/319.jpg\n",
      "/home/khanhhh/data_1/courses/practical_project_1/codes/dataset/forest/test_images/324.jpg\n",
      "/home/khanhhh/data_1/courses/practical_project_1/codes/dataset/forest/test_images/323.jpg\n",
      "/home/khanhhh/data_1/courses/practical_project_1/codes/dataset/forest/test_images/320.jpg\n",
      "/home/khanhhh/data_1/courses/practical_project_1/codes/dataset/forest/test_images/317.jpg\n",
      "/home/khanhhh/data_1/courses/practical_project_1/codes/dataset/forest/test_images/322.jpg\n",
      "/home/khanhhh/data_1/courses/practical_project_1/codes/dataset/forest/test_images/325.jpg\n",
      "/home/khanhhh/data_1/courses/practical_project_1/codes/dataset/forest/test_images/306.jpg\n",
      "/home/khanhhh/data_1/courses/practical_project_1/codes/dataset/forest/test_images/304.jpg\n",
      "/home/khanhhh/data_1/courses/practical_project_1/codes/dataset/forest/test_images/326.jpg\n",
      "/home/khanhhh/data_1/courses/practical_project_1/codes/dataset/forest/test_images/310.jpg\n",
      "/home/khanhhh/data_1/courses/practical_project_1/codes/dataset/forest/test_images/302.jpg\n",
      "/home/khanhhh/data_1/courses/practical_project_1/codes/dataset/forest/test_images/307.jpg\n",
      "/home/khanhhh/data_1/courses/practical_project_1/codes/dataset/forest/test_images/328.jpg\n",
      "/home/khanhhh/data_1/courses/practical_project_1/codes/dataset/forest/test_images/318.jpg\n",
      "/home/khanhhh/data_1/courses/practical_project_1/codes/dataset/forest/test_images/316.jpg\n",
      "/home/khanhhh/data_1/courses/practical_project_1/codes/dataset/forest/test_images/321.jpg\n",
      "/home/khanhhh/data_1/courses/practical_project_1/codes/dataset/forest/test_images/303.jpg\n",
      "/home/khanhhh/data_1/courses/practical_project_1/codes/dataset/forest/test_images/311.jpg\n",
      "/home/khanhhh/data_1/courses/practical_project_1/codes/dataset/forest/test_images/312.jpg\n",
      "/home/khanhhh/data_1/courses/practical_project_1/codes/dataset/forest/test_images/305.jpg\n",
      "/home/khanhhh/data_1/courses/practical_project_1/codes/dataset/forest/test_images/327.jpg\n",
      "/home/khanhhh/data_1/courses/practical_project_1/codes/dataset/forest/test_images/329.jpg\n",
      "/home/khanhhh/data_1/courses/practical_project_1/codes/dataset/forest/test_images/315.jpg\n",
      "/home/khanhhh/data_1/courses/practical_project_1/codes/dataset/forest/test_images/308.jpg\n",
      "/home/khanhhh/data_1/courses/practical_project_1/codes/dataset/forest/test_images/314.jpg\n",
      "/home/khanhhh/data_1/courses/practical_project_1/codes/dataset/forest/test_images/301.jpg\n"
     ]
    },
    {
     "data": {
      "image/png": "[encoded data removed]",
      "text/plain": [
       "<Figure size 432x288 with 2 Axes>"
      ]
     },
     "metadata": {
      "needs_background": "light"
     },
     "output_type": "display_data"
    }
   ],
   "source": [
    "import util\n",
    "import cv2 as cv\n",
    "import matplotlib.pyplot as plt\n",
    "h = 13\n",
    "\n",
    "TEST_DIR = '/home/khanhhh/data_1/courses/practical_project_1/codes/dataset/forest/test_images/'\n",
    "OUT_DIR = '/home/khanhhh/data_1/courses/practical_project_1/codes/dataset/forest/test_output/'\n",
    "\n",
    "test_files = [path for path in Path(TEST_DIR).glob('*.*')]\n",
    "#fpath = test_files[np.random.randint(len(test_files))]\n",
    "for fpath in test_files:\n",
    "    #fpath = f'{TEST_DIR}001.jpg'\n",
    "    print(fpath)\n",
    "    img = cv.imread(str(fpath))\n",
    "    \n",
    "    patches, patch_locs = extract_patch(img, 13)\n",
    "\n",
    "    preds = model.predict(np.array(patches))\n",
    "\n",
    "    img_ret = upsample_patch_predict(np.array(preds), patch_locs, img.shape, h)\n",
    "    img_ret = img_ret * 255.0\n",
    "    \n",
    "    #cv.imwrite(f'{OUT_DIR}{fpath.stem}.png', img_ret)\n",
    "    plt.subplot(121); plt.imshow(img)\n",
    "    plt.subplot(122); plt.imshow(img_ret)\n",
    "    plt.savefig(f'{OUT_DIR}{fpath.stem}.png', dpi=500)\n",
    "    #break\n"
   ]
  },
  {
   "cell_type": "code",
   "execution_count": null,
   "metadata": {},
   "outputs": [],
   "source": [
    "DEBUG_DIR = '/home/khanhhh/data_1/courses/practical_project_1/codes/dataset/forest_processed/debug_1/'\n",
    "for i, patch in enumerate(patches):\n",
    "    if i > 1000: \n",
    "        break\n",
    "    cv.imwrite(f'{DEBUG_DIR}{i}.png', patch)"
   ]
  },
  {
   "cell_type": "code",
   "execution_count": null,
   "metadata": {
    "scrolled": false
   },
   "outputs": [],
   "source": []
  },
  {
   "cell_type": "code",
   "execution_count": null,
   "metadata": {},
   "outputs": [],
   "source": [
    "patch = patches[np.random.randint(len(patches))]\n",
    "pred_img = predict_upsample(model, patch)\n",
    "print(np.sum(pred_img[:]))\n",
    "plt.subplot(121); plt.imshow(patch)\n",
    "plt.subplot(122); plt.imshow(pred_img)"
   ]
  },
  {
   "cell_type": "markdown",
   "metadata": {},
   "source": [
    "# test on positive samples"
   ]
  },
  {
   "cell_type": "code",
   "execution_count": null,
   "metadata": {},
   "outputs": [],
   "source": [
    "POS_DIR = f'{IN_DIR}/pos/'\n",
    "POS_MASK_DIR = f'{IN_DIR}/pos_mask/'\n",
    "\n",
    "nane = '001.npy'\n",
    "pos_path = f'{IN_DIR}/pos/{name}'\n",
    "pos_mask_path = f'{IN_DIR}/pos_mask/{name}'\n",
    "neg_path = f'{IN_DIR}/neg/{name}'\n",
    "neg_mask_path = f'{IN_DIR}/neg_mask/{name}'\n",
    "\n",
    "idx = np.random.randint(100)\n",
    "    \n",
    "pos_mask = np.load(pos_mask_path)[idx]\n",
    "pos_mask = pos_mask.reshape(5,5)\n",
    "pos_mask = cv.resize(pos_mask, (27,27))\n",
    "\n",
    "pos_sample = np.load(pos_path)[idx]\n",
    "pred = predict_upsample(model, pos_sample)\n",
    "\n",
    "neg_mask = np.load(n_mask_path)[idx]\n",
    "neg_mask = pos_mask.reshape(5,5)\n",
    "neg_mask = cv.resize(pos_mask, (27,27))\n",
    "\n",
    "pos_sample = np.load(pos_path)[idx]\n",
    "pred = predict_upsample(model, pos_sample)\n",
    "\n",
    "plt.subplot(131), plt.imshow(pos_sample)\n",
    "plt.subplot(132), plt.imshow(pos_mask)\n",
    "plt.subplot(133), plt.imshow(pred)"
   ]
  },
  {
   "cell_type": "code",
   "execution_count": null,
   "metadata": {},
   "outputs": [],
   "source": []
  }
 ],
 "metadata": {
  "kernelspec": {
   "display_name": "Python [conda env:tf]",
   "language": "python",
   "name": "conda-env-tf-py"
  },
  "language_info": {
   "codemirror_mode": {
    "name": "ipython",
    "version": 3
   },
   "file_extension": ".py",
   "mimetype": "text/x-python",
   "name": "python",
   "nbconvert_exporter": "python",
   "pygments_lexer": "ipython3",
   "version": "3.6.6"
  }
 },
 "nbformat": 4,
 "nbformat_minor": 2
}

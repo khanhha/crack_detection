{
 "cells": [
  {
   "cell_type": "code",
   "execution_count": 1,
   "metadata": {},
   "outputs": [
    {
     "name": "stderr",
     "output_type": "stream",
     "text": [
      "Using TensorFlow backend.\n"
     ]
    },
    {
     "name": "stdout",
     "output_type": "stream",
     "text": [
      "[name: \"/device:CPU:0\"\n",
      "device_type: \"CPU\"\n",
      "memory_limit: 268435456\n",
      "locality {\n",
      "}\n",
      "incarnation: 755750560424883107\n",
      ", name: \"/device:XLA_CPU:0\"\n",
      "device_type: \"XLA_CPU\"\n",
      "memory_limit: 17179869184\n",
      "locality {\n",
      "}\n",
      "incarnation: 543891480410051575\n",
      "physical_device_desc: \"device: XLA_CPU device\"\n",
      ", name: \"/device:XLA_GPU:0\"\n",
      "device_type: \"XLA_GPU\"\n",
      "memory_limit: 17179869184\n",
      "locality {\n",
      "}\n",
      "incarnation: 1334371587387203257\n",
      "physical_device_desc: \"device: XLA_GPU device\"\n",
      ", name: \"/device:GPU:0\"\n",
      "device_type: \"GPU\"\n",
      "memory_limit: 9887259034\n",
      "locality {\n",
      "  bus_id: 1\n",
      "  links {\n",
      "  }\n",
      "}\n",
      "incarnation: 12263622257885970533\n",
      "physical_device_desc: \"device: 0, name: GeForce GTX 1080 Ti, pci bus id: 0000:01:00.0, compute capability: 6.1\"\n",
      "]\n"
     ]
    },
    {
     "data": {
      "text/plain": [
       "'/device:GPU:0'"
      ]
     },
     "execution_count": 1,
     "metadata": {},
     "output_type": "execute_result"
    }
   ],
   "source": [
    "%config IPCompleter.greedy=True\n",
    "from keras.models import Model\n",
    "from keras.layers import Input, Conv2D, MaxPool2D\n",
    "from pathlib import Path\n",
    "import numpy as np\n",
    "import os\n",
    "import shutil\n",
    "\n",
    "from tensorflow.python.client import device_lib\n",
    "print(device_lib.list_local_devices())\n",
    "\n",
    "import tensorflow as tf\n",
    "tf.test.gpu_device_name()"
   ]
  },
  {
   "cell_type": "code",
   "execution_count": 2,
   "metadata": {},
   "outputs": [],
   "source": [
    "DIR_IN = '/home/khanhhh/data_1/courses/practical_project_1/codes/dataset/SDNET2018/'"
   ]
  },
  {
   "cell_type": "code",
   "execution_count": 3,
   "metadata": {},
   "outputs": [],
   "source": [
    "crack_dirs = []\n",
    "noncrack_dirs = []\n",
    "for path in Path(DIR_IN).glob('**'):\n",
    "    if path.stem[0] == 'U':\n",
    "        noncrack_dirs.append(path)\n",
    "    elif path.stem[0] == 'C':\n",
    "        crack_dirs.append(path)"
   ]
  },
  {
   "cell_type": "code",
   "execution_count": 4,
   "metadata": {},
   "outputs": [
    {
     "data": {
      "text/plain": [
       "[PosixPath('/home/khanhhh/data_1/courses/practical_project_1/codes/dataset/SDNET2018/D/CD'),\n",
       " PosixPath('/home/khanhhh/data_1/courses/practical_project_1/codes/dataset/SDNET2018/P/CP'),\n",
       " PosixPath('/home/khanhhh/data_1/courses/practical_project_1/codes/dataset/SDNET2018/W/CW')]"
      ]
     },
     "execution_count": 4,
     "metadata": {},
     "output_type": "execute_result"
    }
   ],
   "source": [
    "crack_dirs"
   ]
  },
  {
   "cell_type": "code",
   "execution_count": 5,
   "metadata": {},
   "outputs": [
    {
     "data": {
      "text/plain": [
       "[PosixPath('/home/khanhhh/data_1/courses/practical_project_1/codes/dataset/SDNET2018/D/UD'),\n",
       " PosixPath('/home/khanhhh/data_1/courses/practical_project_1/codes/dataset/SDNET2018/P/UP'),\n",
       " PosixPath('/home/khanhhh/data_1/courses/practical_project_1/codes/dataset/SDNET2018/W/UW')]"
      ]
     },
     "execution_count": 5,
     "metadata": {},
     "output_type": "execute_result"
    }
   ],
   "source": [
    "noncrack_dirs"
   ]
  },
  {
   "cell_type": "code",
   "execution_count": 6,
   "metadata": {},
   "outputs": [],
   "source": [
    "crack_paths = []\n",
    "noncrack_paths = []\n",
    "for dir in crack_dirs:\n",
    "    for path in dir.glob('*.*'):\n",
    "        crack_paths.append(path)\n",
    "        \n",
    "for dir in noncrack_dirs:\n",
    "    for path in dir.glob('*.*'):\n",
    "        noncrack_paths.append(path)\n",
    "        \n",
    "all_paths = crack_paths + noncrack_paths\n",
    "n = len(all_paths)\n",
    "n_crack = len(crack_paths)\n",
    "n_noncrack = n - n_crack"
   ]
  },
  {
   "cell_type": "code",
   "execution_count": 7,
   "metadata": {},
   "outputs": [
    {
     "name": "stdout",
     "output_type": "stream",
     "text": [
      "56092 : 36459 8413 11220\n"
     ]
    }
   ],
   "source": [
    "labels  = np.zeros(n, dtype=np.bool)\n",
    "labels[:n_crack] = 1\n",
    "labels[n_crack:] = 0\n",
    "indices = np.arange(n)\n",
    "\n",
    "rng = np.random.RandomState()\n",
    "indices = rng.permutation(indices)\n",
    "train_size, valid_size= int(0.65*n), int(0.15*n)\n",
    "test_size = n - train_size - valid_size\n",
    "\n",
    "train_ind = indices[:train_size]\n",
    "valid_ind = indices[train_size:(train_size+valid_size)]\n",
    "test_ind  = indices[(train_size+valid_size):]\n",
    "\n",
    "print(n,':', train_size, valid_size, test_size)\n",
    "\n",
    "TRAIN_DIR = f'{DIR_IN}/train/'\n",
    "VALID_DIR = f'{DIR_IN}/valid/'\n",
    "TEST_DIR  = f'{DIR_IN}/test/'"
   ]
  },
  {
   "cell_type": "code",
   "execution_count": 9,
   "metadata": {},
   "outputs": [],
   "source": [
    "shutil.rmtree(TRAIN_DIR)\n",
    "shutil.rmtree(VALID_DIR)\n",
    "shutil.rmtree(TEST_DIR)\n",
    "\n",
    "os.makedirs(TRAIN_DIR, exist_ok = True)\n",
    "os.makedirs(VALID_DIR, exist_ok = True)\n",
    "os.makedirs(TEST_DIR,  exist_ok = True)\n",
    "\n",
    "os.makedirs(f'{TRAIN_DIR}crack', exist_ok = True)\n",
    "os.makedirs(f'{TRAIN_DIR}noncrack', exist_ok = True)\n",
    "os.makedirs(f'{VALID_DIR}crack', exist_ok = True)\n",
    "os.makedirs(f'{VALID_DIR}noncrack', exist_ok = True)\n",
    "os.makedirs(f'{TEST_DIR}crack', exist_ok = True)\n",
    "os.makedirs(f'{TEST_DIR}noncrack', exist_ok = True)"
   ]
  },
  {
   "cell_type": "code",
   "execution_count": 8,
   "metadata": {},
   "outputs": [],
   "source": [
    "for idx in train_ind:\n",
    "    path = all_paths[idx]\n",
    "    if labels[idx] == 1:\n",
    "        shutil.copy(path, f'{TRAIN_DIR}/crack/{path.name}')\n",
    "    else:\n",
    "        shutil.copy(path, f'{TRAIN_DIR}/noncrack/{path.name}')\n",
    "    \n",
    "for idx in valid_ind:\n",
    "    path = all_paths[idx]\n",
    "    if labels[idx] == 1:\n",
    "        shutil.copy(path, f'{VALID_DIR}/crack/{path.name}')\n",
    "    else:\n",
    "        shutil.copy(path, f'{VALID_DIR}/noncrack/{path.name}')\n",
    "    \n",
    "for idx in test_ind:\n",
    "    path = all_paths[idx]\n",
    "    if labels[idx] == 1:\n",
    "        shutil.copy(path, f'{TEST_DIR}/crack/{path.name}')\n",
    "    else:\n",
    "        shutil.copy(path, f'{TEST_DIR}/noncrack/{path.name}')"
   ]
  },
  {
   "cell_type": "code",
   "execution_count": 9,
   "metadata": {
    "scrolled": true
   },
   "outputs": [
    {
     "name": "stdout",
     "output_type": "stream",
     "text": [
      "Found 49301 images belonging to 2 classes.\n",
      "Found 15550 images belonging to 2 classes.\n",
      "train batches per epoch:  494\n",
      "valid batches per epoch:  156\n"
     ]
    }
   ],
   "source": [
    "from keras.preprocessing.image import ImageDataGenerator\n",
    "\n",
    "train_datagen = ImageDataGenerator(\n",
    "        rescale=1./255)\n",
    "\n",
    "test_datagen = ImageDataGenerator(rescale=1./255)\n",
    "\n",
    "train_generator = train_datagen.flow_from_directory(\n",
    "        TRAIN_DIR,\n",
    "        target_size=(224, 224),\n",
    "        batch_size=100,\n",
    "        class_mode='categorical')\n",
    "\n",
    "validation_generator = test_datagen.flow_from_directory(\n",
    "        VALID_DIR,\n",
    "        target_size=(224, 224),\n",
    "        batch_size=100,\n",
    "        class_mode='categorical')\n",
    "print('train batches per epoch: ', len(train_generator))\n",
    "print('valid batches per epoch: ', len(validation_generator))"
   ]
  },
  {
   "cell_type": "code",
   "execution_count": 10,
   "metadata": {
    "scrolled": true
   },
   "outputs": [
    {
     "name": "stdout",
     "output_type": "stream",
     "text": [
      "Found 20269 images belonging to 2 classes.\n",
      "test batches:  203\n"
     ]
    }
   ],
   "source": [
    "test_generator = test_datagen.flow_from_directory(\n",
    "        TEST_DIR,\n",
    "        target_size=(224,224),\n",
    "        batch_size=100,\n",
    "        class_mode='categorical')\n",
    "\n",
    "print('test batches: ', len(test_generator))"
   ]
  },
  {
   "cell_type": "code",
   "execution_count": 11,
   "metadata": {},
   "outputs": [
    {
     "data": {
      "text/plain": [
       "{'crack': 0, 'noncrack': 1}"
      ]
     },
     "execution_count": 11,
     "metadata": {},
     "output_type": "execute_result"
    }
   ],
   "source": [
    "test_generator.class_indices"
   ]
  },
  {
   "cell_type": "code",
   "execution_count": 30,
   "metadata": {},
   "outputs": [
    {
     "name": "stdout",
     "output_type": "stream",
     "text": [
      "_________________________________________________________________\n",
      "Layer (type)                 Output Shape              Param #   \n",
      "=================================================================\n",
      "conv2d_24 (Conv2D)           (None, 54, 54, 96)        34944     \n",
      "_________________________________________________________________\n",
      "activation_26 (Activation)   (None, 54, 54, 96)        0         \n",
      "_________________________________________________________________\n",
      "max_pooling2d_15 (MaxPooling (None, 27, 27, 96)        0         \n",
      "_________________________________________________________________\n",
      "batch_normalization_22 (Batc (None, 27, 27, 96)        384       \n",
      "_________________________________________________________________\n",
      "conv2d_25 (Conv2D)           (None, 17, 17, 256)       2973952   \n",
      "_________________________________________________________________\n",
      "activation_27 (Activation)   (None, 17, 17, 256)       0         \n",
      "_________________________________________________________________\n",
      "max_pooling2d_16 (MaxPooling (None, 8, 8, 256)         0         \n",
      "_________________________________________________________________\n",
      "batch_normalization_23 (Batc (None, 8, 8, 256)         1024      \n",
      "_________________________________________________________________\n",
      "conv2d_26 (Conv2D)           (None, 6, 6, 384)         885120    \n",
      "_________________________________________________________________\n",
      "activation_28 (Activation)   (None, 6, 6, 384)         0         \n",
      "_________________________________________________________________\n",
      "batch_normalization_24 (Batc (None, 6, 6, 384)         1536      \n",
      "_________________________________________________________________\n",
      "conv2d_27 (Conv2D)           (None, 4, 4, 384)         1327488   \n",
      "_________________________________________________________________\n",
      "activation_29 (Activation)   (None, 4, 4, 384)         0         \n",
      "_________________________________________________________________\n",
      "batch_normalization_25 (Batc (None, 4, 4, 384)         1536      \n",
      "_________________________________________________________________\n",
      "conv2d_28 (Conv2D)           (None, 2, 2, 256)         884992    \n",
      "_________________________________________________________________\n",
      "activation_30 (Activation)   (None, 2, 2, 256)         0         \n",
      "_________________________________________________________________\n",
      "max_pooling2d_17 (MaxPooling (None, 1, 1, 256)         0         \n",
      "_________________________________________________________________\n",
      "batch_normalization_26 (Batc (None, 1, 1, 256)         1024      \n",
      "_________________________________________________________________\n",
      "flatten_6 (Flatten)          (None, 256)               0         \n",
      "_________________________________________________________________\n",
      "dense_12 (Dense)             (None, 4096)              1052672   \n",
      "_________________________________________________________________\n",
      "activation_31 (Activation)   (None, 4096)              0         \n",
      "_________________________________________________________________\n",
      "dropout_7 (Dropout)          (None, 4096)              0         \n",
      "_________________________________________________________________\n",
      "batch_normalization_27 (Batc (None, 4096)              16384     \n",
      "_________________________________________________________________\n",
      "dense_13 (Dense)             (None, 4096)              16781312  \n",
      "_________________________________________________________________\n",
      "activation_32 (Activation)   (None, 4096)              0         \n",
      "_________________________________________________________________\n",
      "dropout_8 (Dropout)          (None, 4096)              0         \n",
      "_________________________________________________________________\n",
      "batch_normalization_28 (Batc (None, 4096)              16384     \n",
      "_________________________________________________________________\n",
      "dense_14 (Dense)             (None, 1000)              4097000   \n",
      "_________________________________________________________________\n",
      "activation_33 (Activation)   (None, 1000)              0         \n",
      "_________________________________________________________________\n",
      "dropout_9 (Dropout)          (None, 1000)              0         \n",
      "_________________________________________________________________\n",
      "batch_normalization_29 (Batc (None, 1000)              4000      \n",
      "_________________________________________________________________\n",
      "dense_15 (Dense)             (None, 2)                 2002      \n",
      "_________________________________________________________________\n",
      "activation_34 (Activation)   (None, 2)                 0         \n",
      "=================================================================\n",
      "Total params: 28,081,754\n",
      "Trainable params: 28,060,618\n",
      "Non-trainable params: 21,136\n",
      "_________________________________________________________________\n"
     ]
    }
   ],
   "source": [
    "from keras.models import Model, Sequential\n",
    "from keras.layers import Input, Conv2D, MaxPooling2D, Dense, Flatten, Activation, BatchNormalization, Dropout\n",
    "from keras import optimizers\n",
    "from keras.regularizers import l2\n",
    "\n",
    "\n",
    "# (3) Create a sequential model\n",
    "model = Sequential()\n",
    "\n",
    "# 1st Convolutional Layer\n",
    "model.add(Conv2D(filters=96, input_shape=(224,224,3), kernel_size=(11,11), strides=(4,4), padding='valid'))\n",
    "model.add(Activation('relu'))\n",
    "# Pooling \n",
    "model.add(MaxPooling2D(pool_size=(2,2), strides=(2,2), padding='valid'))\n",
    "# Batch Normalisation before passing it to the next layer\n",
    "model.add(BatchNormalization())\n",
    "\n",
    "# 2nd Convolutional Layer\n",
    "model.add(Conv2D(filters=256, kernel_size=(11,11), strides=(1,1), padding='valid'))\n",
    "model.add(Activation('relu'))\n",
    "# Pooling\n",
    "model.add(MaxPooling2D(pool_size=(2,2), strides=(2,2), padding='valid'))\n",
    "# Batch Normalisation\n",
    "model.add(BatchNormalization())\n",
    "\n",
    "# 3rd Convolutional Layer\n",
    "model.add(Conv2D(filters=384, kernel_size=(3,3), strides=(1,1), padding='valid'))\n",
    "model.add(Activation('relu'))\n",
    "# Batch Normalisation\n",
    "model.add(BatchNormalization())\n",
    "\n",
    "# 4th Convolutional Layer\n",
    "model.add(Conv2D(filters=384, kernel_size=(3,3), strides=(1,1), padding='valid'))\n",
    "model.add(Activation('relu'))\n",
    "# Batch Normalisation\n",
    "model.add(BatchNormalization())\n",
    "\n",
    "# 5th Convolutional Layer\n",
    "model.add(Conv2D(filters=256, kernel_size=(3,3), strides=(1,1), padding='valid'))\n",
    "model.add(Activation('relu'))\n",
    "# Pooling\n",
    "model.add(MaxPooling2D(pool_size=(2,2), strides=(2,2), padding='valid'))\n",
    "# Batch Normalisation\n",
    "model.add(BatchNormalization())\n",
    "\n",
    "# Passing it to a dense layer\n",
    "model.add(Flatten())\n",
    "# 1st Dense Layer\n",
    "model.add(Dense(4096, input_shape=(224*224*3,)))\n",
    "model.add(Activation('relu'))\n",
    "# Add Dropout to prevent overfitting\n",
    "model.add(Dropout(0.4))\n",
    "# Batch Normalisation\n",
    "model.add(BatchNormalization())\n",
    "\n",
    "# 2nd Dense Layer\n",
    "model.add(Dense(4096))\n",
    "model.add(Activation('relu'))\n",
    "# Add Dropout\n",
    "model.add(Dropout(0.4))\n",
    "# Batch Normalisation\n",
    "model.add(BatchNormalization())\n",
    "\n",
    "# 3rd Dense Layer\n",
    "model.add(Dense(1000))\n",
    "model.add(Activation('relu'))\n",
    "# Add Dropout\n",
    "model.add(Dropout(0.4))\n",
    "# Batch Normalisation\n",
    "model.add(BatchNormalization())\n",
    "\n",
    "# Output Layer\n",
    "model.add(Dense(2))\n",
    "model.add(Activation('softmax'))\n",
    "\n",
    "model.summary()\n",
    "\n",
    "# (4) Compile \n",
    "model.compile(loss='binary_crossentropy', optimizer='adam', metrics=['accuracy'])"
   ]
  },
  {
   "cell_type": "code",
   "execution_count": 57,
   "metadata": {},
   "outputs": [
    {
     "name": "stdout",
     "output_type": "stream",
     "text": [
      "Epoch 1/20\n",
      "365/365 [==============================] - 58s 159ms/step - loss: 0.4013 - acc: 0.8513 - val_loss: 0.4246 - val_acc: 0.8449\n",
      "Epoch 2/20\n",
      "365/365 [==============================] - 56s 154ms/step - loss: 0.3955 - acc: 0.8511 - val_loss: 0.5114 - val_acc: 0.8498\n",
      "Epoch 3/20\n",
      "365/365 [==============================] - 56s 153ms/step - loss: 0.3919 - acc: 0.8532 - val_loss: 0.4860 - val_acc: 0.8360\n",
      "Epoch 4/20\n",
      "365/365 [==============================] - 57s 157ms/step - loss: 0.3859 - acc: 0.8547 - val_loss: 0.3900 - val_acc: 0.8521\n",
      "Epoch 5/20\n",
      "365/365 [==============================] - 57s 155ms/step - loss: 0.3894 - acc: 0.8521 - val_loss: 0.5477 - val_acc: 0.8506\n",
      "Epoch 6/20\n",
      "365/365 [==============================] - 57s 157ms/step - loss: 0.3815 - acc: 0.8556 - val_loss: 0.4247 - val_acc: 0.8527\n",
      "Epoch 7/20\n",
      "365/365 [==============================] - 57s 156ms/step - loss: 0.3754 - acc: 0.8576 - val_loss: 0.4020 - val_acc: 0.8546\n",
      "Epoch 8/20\n",
      "365/365 [==============================] - 56s 155ms/step - loss: 0.3733 - acc: 0.8582 - val_loss: 0.3841 - val_acc: 0.8558\n",
      "Epoch 9/20\n",
      "365/365 [==============================] - 58s 158ms/step - loss: 0.3701 - acc: 0.8588 - val_loss: 0.4989 - val_acc: 0.8530\n",
      "Epoch 10/20\n",
      "365/365 [==============================] - 57s 155ms/step - loss: 0.3694 - acc: 0.8591 - val_loss: 0.5281 - val_acc: 0.8540\n",
      "Epoch 11/20\n",
      "365/365 [==============================] - 57s 157ms/step - loss: 0.3693 - acc: 0.8601 - val_loss: 0.8602 - val_acc: 0.8536\n",
      "Epoch 12/20\n",
      "365/365 [==============================] - 57s 155ms/step - loss: 0.3644 - acc: 0.8623 - val_loss: 0.3907 - val_acc: 0.8547\n",
      "Epoch 13/20\n",
      "365/365 [==============================] - 56s 154ms/step - loss: 0.3582 - acc: 0.8625 - val_loss: 0.4008 - val_acc: 0.8589\n",
      "Epoch 14/20\n",
      "365/365 [==============================] - 57s 155ms/step - loss: 0.3523 - acc: 0.8657 - val_loss: 0.4266 - val_acc: 0.8483\n",
      "Epoch 15/20\n",
      "365/365 [==============================] - 57s 155ms/step - loss: 0.3437 - acc: 0.8677 - val_loss: 0.4805 - val_acc: 0.8580\n",
      "Epoch 16/20\n",
      "365/365 [==============================] - 57s 157ms/step - loss: 0.3318 - acc: 0.8695 - val_loss: 0.4446 - val_acc: 0.8481\n",
      "Epoch 17/20\n",
      "365/365 [==============================] - 57s 156ms/step - loss: 0.3211 - acc: 0.8731 - val_loss: 0.4617 - val_acc: 0.7927\n",
      "Epoch 18/20\n",
      "365/365 [==============================] - 56s 154ms/step - loss: 0.3059 - acc: 0.8777 - val_loss: 0.5138 - val_acc: 0.7789\n",
      "Epoch 19/20\n",
      "365/365 [==============================] - 56s 154ms/step - loss: 0.2955 - acc: 0.8835 - val_loss: 0.5741 - val_acc: 0.8565\n",
      "Epoch 20/20\n",
      "365/365 [==============================] - 56s 154ms/step - loss: 0.2860 - acc: 0.8864 - val_loss: 0.5494 - val_acc: 0.8553\n"
     ]
    }
   ],
   "source": [
    "from keras.callbacks import ModelCheckpoint\n",
    "\n",
    "n_epochs = 20\n",
    "\n",
    "model_path = f'{DIR_IN}/models/best_weight.hdf5'\n",
    "check_point = ModelCheckpoint(filepath=model_path, verbose=1, save_best_only=True)\n",
    "\n",
    "history = model.fit_generator(\n",
    "        train_generator,\n",
    "        steps_per_epoch=len(train_generator),\n",
    "        epochs=n_epochs,\n",
    "        validation_data=validation_generator,\n",
    "        validation_steps=len(validation_generator))"
   ]
  },
  {
   "cell_type": "code",
   "execution_count": 59,
   "metadata": {},
   "outputs": [],
   "source": [
    "model.save(f'{DIR_IN}/models/model.hdf5')"
   ]
  },
  {
   "cell_type": "code",
   "execution_count": 12,
   "metadata": {},
   "outputs": [],
   "source": [
    "from keras.models import load_model\n",
    "model = load_model(f'{DIR_IN}/models/model.hdf5')"
   ]
  },
  {
   "cell_type": "code",
   "execution_count": 1,
   "metadata": {},
   "outputs": [
    {
     "ename": "NameError",
     "evalue": "name 'np' is not defined",
     "output_type": "error",
     "traceback": [
      "\u001b[0;31m---------------------------------------------------------------------------\u001b[0m",
      "\u001b[0;31mNameError\u001b[0m                                 Traceback (most recent call last)",
      "\u001b[0;32m<ipython-input-1-d6ef46b3e2d9>\u001b[0m in \u001b[0;36m<module>\u001b[0;34m\u001b[0m\n\u001b[1;32m      1\u001b[0m \u001b[0;32mimport\u001b[0m \u001b[0mmatplotlib\u001b[0m\u001b[0;34m.\u001b[0m\u001b[0mpyplot\u001b[0m \u001b[0;32mas\u001b[0m \u001b[0mplt\u001b[0m\u001b[0;34m\u001b[0m\u001b[0m\n\u001b[0;32m----> 2\u001b[0;31m \u001b[0mx\u001b[0m \u001b[0;34m=\u001b[0m \u001b[0mnp\u001b[0m\u001b[0;34m.\u001b[0m\u001b[0marange\u001b[0m\u001b[0;34m(\u001b[0m\u001b[0mn_epochs\u001b[0m\u001b[0;34m)\u001b[0m\u001b[0;34m\u001b[0m\u001b[0m\n\u001b[0m\u001b[1;32m      3\u001b[0m \u001b[0mplt\u001b[0m\u001b[0;34m.\u001b[0m\u001b[0mplot\u001b[0m\u001b[0;34m(\u001b[0m\u001b[0mx\u001b[0m\u001b[0;34m,\u001b[0m \u001b[0mhistory\u001b[0m\u001b[0;34m.\u001b[0m\u001b[0mhistory\u001b[0m\u001b[0;34m[\u001b[0m\u001b[0;34m'loss'\u001b[0m\u001b[0;34m]\u001b[0m\u001b[0;34m,\u001b[0m \u001b[0;34m'-b'\u001b[0m\u001b[0;34m,\u001b[0m \u001b[0mlabel\u001b[0m \u001b[0;34m=\u001b[0m \u001b[0;34m'train_loss'\u001b[0m\u001b[0;34m)\u001b[0m\u001b[0;34m\u001b[0m\u001b[0m\n\u001b[1;32m      4\u001b[0m \u001b[0mplt\u001b[0m\u001b[0;34m.\u001b[0m\u001b[0mplot\u001b[0m\u001b[0;34m(\u001b[0m\u001b[0mx\u001b[0m\u001b[0;34m,\u001b[0m \u001b[0mhistory\u001b[0m\u001b[0;34m.\u001b[0m\u001b[0mhistory\u001b[0m\u001b[0;34m[\u001b[0m\u001b[0;34m'val_loss'\u001b[0m\u001b[0;34m]\u001b[0m\u001b[0;34m,\u001b[0m \u001b[0;34m'-r'\u001b[0m\u001b[0;34m,\u001b[0m \u001b[0mlabel\u001b[0m\u001b[0;34m=\u001b[0m\u001b[0;34m'validation_loss'\u001b[0m\u001b[0;34m)\u001b[0m\u001b[0;34m\u001b[0m\u001b[0m\n\u001b[1;32m      5\u001b[0m \u001b[0mplt\u001b[0m\u001b[0;34m.\u001b[0m\u001b[0mlegend\u001b[0m\u001b[0;34m(\u001b[0m\u001b[0;34m)\u001b[0m\u001b[0;34m\u001b[0m\u001b[0m\n",
      "\u001b[0;31mNameError\u001b[0m: name 'np' is not defined"
     ]
    }
   ],
   "source": [
    "import matplotlib.pyplot as plt\n",
    "x = np.arange(n_epochs)\n",
    "plt.plot(x, history.history['loss'], '-b', label = 'train_loss')\n",
    "plt.plot(x, history.history['val_loss'], '-r', label='validation_loss')\n",
    "plt.legend()"
   ]
  },
  {
   "cell_type": "raw",
   "metadata": {},
   "source": [
    "preds = model.predict_generator(test_generator, steps=len(test_generator))"
   ]
  },
  {
   "cell_type": "code",
   "execution_count": 15,
   "metadata": {},
   "outputs": [],
   "source": [
    "preds_idx = np.argmax(preds, axis=1) #multiple categories"
   ]
  },
  {
   "cell_type": "code",
   "execution_count": 16,
   "metadata": {},
   "outputs": [],
   "source": [
    "correct_preds = preds_idx == test_generator.classes"
   ]
  },
  {
   "cell_type": "code",
   "execution_count": 17,
   "metadata": {},
   "outputs": [
    {
     "name": "stdout",
     "output_type": "stream",
     "text": [
      "accuracy = 0.8338349203216735\n"
     ]
    }
   ],
   "source": [
    "import numpy as np\n",
    "acc = (np.sum(correct_preds)/len(preds_idx))\n",
    "print(f'accuracy = {acc}')"
   ]
  },
  {
   "cell_type": "code",
   "execution_count": null,
   "metadata": {},
   "outputs": [],
   "source": []
  }
 ],
 "metadata": {
  "kernelspec": {
   "display_name": "keras",
   "language": "python",
   "name": "keras"
  },
  "language_info": {
   "codemirror_mode": {
    "name": "ipython",
    "version": 3
   },
   "file_extension": ".py",
   "mimetype": "text/x-python",
   "name": "python",
   "nbconvert_exporter": "python",
   "pygments_lexer": "ipython3",
   "version": "3.6.6"
  },
  "toc": {
   "base_numbering": 1,
   "nav_menu": {},
   "number_sections": true,
   "sideBar": true,
   "skip_h1_title": false,
   "title_cell": "Table of Contents",
   "title_sidebar": "Contents",
   "toc_cell": false,
   "toc_position": {},
   "toc_section_display": true,
   "toc_window_display": false
  }
 },
 "nbformat": 4,
 "nbformat_minor": 2
}

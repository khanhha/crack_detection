{
 "cells": [
  {
   "cell_type": "code",
   "execution_count": 7,
   "metadata": {},
   "outputs": [],
   "source": [
    "from pathlib import Path\n",
    "import numpy as np\n",
    "import os\n",
    "import shutil\n",
    "from model_def import create_sdnet_model\n",
    "from keras.preprocessing.image import ImageDataGenerator\n",
    "import pandas as pd\n",
    "import shutil\n",
    "from sklearn.model_selection import train_test_split"
   ]
  },
  {
   "cell_type": "code",
   "execution_count": 2,
   "metadata": {},
   "outputs": [],
   "source": [
    "IMG_TYPE = 'D'\n",
    "ROOT_DIR = f'/home/khanhhh/data_1/courses/practical_project_1/codes/dataset/SDNET2018/'\n",
    "DIR_IN = f'{ROOT_DIR}{IMG_TYPE}/'\n",
    "DIR_TMP = f'{DIR_IN}/tmp/'\n",
    "os.makedirs(DIR_TMP, exist_ok=True)"
   ]
  },
  {
   "cell_type": "code",
   "execution_count": 3,
   "metadata": {},
   "outputs": [
    {
     "data": {
      "text/plain": [
       "'/home/khanhhh/data_1/courses/practical_project_1/codes/dataset/SDNET2018/D/'"
      ]
     },
     "execution_count": 3,
     "metadata": {},
     "output_type": "execute_result"
    }
   ],
   "source": [
    "DIR_IN"
   ]
  },
  {
   "cell_type": "markdown",
   "metadata": {},
   "source": [
    "# Load image paths"
   ]
  },
  {
   "cell_type": "code",
   "execution_count": 4,
   "metadata": {},
   "outputs": [],
   "source": [
    "crack_paths = []\n",
    "noncrack_paths = []\n",
    "for i, path in enumerate(Path(DIR_IN).glob('**/*.jpg')):\n",
    "    if not path.is_file():\n",
    "        continue\n",
    "    folder_type = path.parent.name[0]\n",
    "    if folder_type != 'C' and folder_type != 'U':\n",
    "        continue\n",
    "        \n",
    "    if path.parent.name[0] == 'C':\n",
    "        crack_paths.append(path)\n",
    "    else: \n",
    "        noncrack_paths.append(path)"
   ]
  },
  {
   "cell_type": "code",
   "execution_count": 5,
   "metadata": {},
   "outputs": [
    {
     "name": "stdout",
     "output_type": "stream",
     "text": [
      "number of all images = 27242\n",
      "number of crack images = 4050\n",
      "number of non crack images = 23192\n",
      "ratio crack/noncrack = 0.1746291824767161\n"
     ]
    }
   ],
   "source": [
    "n_crack = len(crack_paths)\n",
    "n_noncrack = len(noncrack_paths)\n",
    "n_total = n_crack + n_noncrack\n",
    "print(f'number of all images = {n_total}')\n",
    "print(f'number of crack images = {n_crack}')\n",
    "print(f'number of non crack images = {n_noncrack}')\n",
    "print(f'ratio crack/noncrack = {float(n_crack)/n_noncrack}')"
   ]
  },
  {
   "cell_type": "markdown",
   "metadata": {},
   "source": [
    "# split dataset into train, valid, test"
   ]
  },
  {
   "cell_type": "code",
   "execution_count": 87,
   "metadata": {},
   "outputs": [],
   "source": [
    "paths_x = crack_paths + noncrack_paths\n",
    "y = [1]*n_crack + [0]*n_noncrack\n",
    "paths_train_x, paths_test_x,  train_y, test_y = train_test_split(paths_x, y,test_size=0.2)\n",
    "paths_train_x, paths_valid_x, train_y, valid_y = train_test_split(paths_train_x, train_y, test_size=0.2)\n",
    "\n",
    "for path in paths_train_x:\n",
    "    rel_path = str(path.parents[0].name)+'/'+path.name\n",
    "    path_dst = Path(f'{DIR_TMP}/train/{rel_path}')\n",
    "    os.makedirs(path_dst.parents[0], exist_ok=True)\n",
    "    shutil.copy(path, path_dst)\n",
    "\n",
    "for path in paths_valid_x:\n",
    "    rel_path = str(path.parents[0].name)+'/'+path.name\n",
    "    path_dst = Path(f'{DIR_TMP}/valid/{rel_path}')\n",
    "    os.makedirs(path_dst.parents[0], exist_ok=True)\n",
    "    shutil.copy(path, path_dst) \n",
    "\n",
    "for path in paths_test_x:\n",
    "    rel_path = str(path.parents[0].name)+'/'+path.name\n",
    "    path_dst = Path(f'{DIR_TMP}/test/{rel_path}')\n",
    "    os.makedirs(path_dst.parents[0], exist_ok=True)\n",
    "    shutil.copy(path, path_dst) "
   ]
  },
  {
   "cell_type": "code",
   "execution_count": 88,
   "metadata": {},
   "outputs": [
    {
     "name": "stdout",
     "output_type": "stream",
     "text": [
      "train size = 8716, percent = 0.6399412628487519\n",
      "valid size = 2180, percent = 0.16005873715124816\n",
      "test size  = 2724, percent  = 0.2\n"
     ]
    }
   ],
   "source": [
    "print(f'train size = {len(train_y)}, percent = {float(len(train_y))/n_total}')\n",
    "print(f'valid size = {len(valid_y)}, percent = {float(len(valid_y))/n_total}')\n",
    "print(f'test size  = {len(test_y)}, percent  = {float(len(test_y)) /n_total}')"
   ]
  },
  {
   "cell_type": "markdown",
   "metadata": {},
   "source": [
    "# training"
   ]
  },
  {
   "cell_type": "code",
   "execution_count": 14,
   "metadata": {},
   "outputs": [
    {
     "name": "stdout",
     "output_type": "stream",
     "text": [
      "Found 8716 images belonging to 2 classes.\n",
      "Found 2181 images belonging to 2 classes.\n",
      "Found 2725 images belonging to 2 classes.\n"
     ]
    }
   ],
   "source": [
    "train_gen = ImageDataGenerator(rescale=1./255)\n",
    "train_flow  = train_gen.flow_from_directory(\n",
    "        f'{DIR_TMP}/train/',\n",
    "        target_size=(224, 224),\n",
    "        batch_size=100,\n",
    "        class_mode='categorical')\n",
    "\n",
    "valid_gen = ImageDataGenerator(rescale=1./255)\n",
    "valid_flow  = train_gen.flow_from_directory(\n",
    "        f'{DIR_TMP}/valid/',\n",
    "        target_size=(224, 224),\n",
    "        batch_size=100,\n",
    "        class_mode='categorical')\n",
    "\n",
    "test_gen = ImageDataGenerator(rescale=1./255)\n",
    "test_flow  = train_gen.flow_from_directory(\n",
    "        f'{DIR_TMP}/test/',\n",
    "        target_size=(224, 224),\n",
    "        batch_size=100,\n",
    "        class_mode='categorical')"
   ]
  },
  {
   "cell_type": "code",
   "execution_count": 101,
   "metadata": {},
   "outputs": [
    {
     "name": "stdout",
     "output_type": "stream",
     "text": [
      "train:\n",
      "\tn = 8716, n_crack = 1284, n_noncrack = 7432. ratio = 0.1727664155005382\n",
      "valid:\n",
      "\tn = 2181, n_crack = 319, n_noncrack = 1862. ratio = 0.17132116004296455\n",
      "test:\n",
      "\tn = 2725, n_crack = 422, n_noncrack = 2303. ratio = 0.18323925314806774\n"
     ]
    }
   ],
   "source": [
    "print('train:')\n",
    "print(f'\\tn = {len(train_flow.classes)}, n_crack = {np.sum(train_flow.classes == 0)}, n_noncrack = {np.sum(train_flow.classes == 1)}. ratio = {np.sum(train_flow.classes == 0)/np.sum(train_flow.classes == 1)}')\n",
    "\n",
    "print('valid:')\n",
    "print(f'\\tn = {len(valid_flow.classes)}, n_crack = {np.sum(valid_flow.classes == 0)}, n_noncrack = {np.sum(valid_flow.classes == 1)}. ratio = {np.sum(valid_flow.classes == 0)/np.sum(valid_flow.classes == 1)}')\n",
    "\n",
    "print('test:')\n",
    "print(f'\\tn = {len(test_flow.classes)}, n_crack = {np.sum(test_flow.classes == 0)}, n_noncrack = {np.sum(test_flow.classes == 1)}. ratio = {np.sum(test_flow.classes == 0)/np.sum(test_flow.classes == 1)}')"
   ]
  },
  {
   "cell_type": "code",
   "execution_count": 93,
   "metadata": {
    "scrolled": true
   },
   "outputs": [
    {
     "name": "stdout",
     "output_type": "stream",
     "text": [
      "The autoreload extension is already loaded. To reload it, use:\n",
      "  %reload_ext autoreload\n",
      "_________________________________________________________________\n",
      "Layer (type)                 Output Shape              Param #   \n",
      "=================================================================\n",
      "conv2d_16 (Conv2D)           (None, 54, 54, 96)        34944     \n",
      "_________________________________________________________________\n",
      "activation_25 (Activation)   (None, 54, 54, 96)        0         \n",
      "_________________________________________________________________\n",
      "max_pooling2d_10 (MaxPooling (None, 27, 27, 96)        0         \n",
      "_________________________________________________________________\n",
      "batch_normalization_22 (Batc (None, 27, 27, 96)        384       \n",
      "_________________________________________________________________\n",
      "conv2d_17 (Conv2D)           (None, 17, 17, 256)       2973952   \n",
      "_________________________________________________________________\n",
      "activation_26 (Activation)   (None, 17, 17, 256)       0         \n",
      "_________________________________________________________________\n",
      "max_pooling2d_11 (MaxPooling (None, 8, 8, 256)         0         \n",
      "_________________________________________________________________\n",
      "batch_normalization_23 (Batc (None, 8, 8, 256)         1024      \n",
      "_________________________________________________________________\n",
      "conv2d_18 (Conv2D)           (None, 6, 6, 384)         885120    \n",
      "_________________________________________________________________\n",
      "activation_27 (Activation)   (None, 6, 6, 384)         0         \n",
      "_________________________________________________________________\n",
      "batch_normalization_24 (Batc (None, 6, 6, 384)         1536      \n",
      "_________________________________________________________________\n",
      "conv2d_19 (Conv2D)           (None, 4, 4, 384)         1327488   \n",
      "_________________________________________________________________\n",
      "activation_28 (Activation)   (None, 4, 4, 384)         0         \n",
      "_________________________________________________________________\n",
      "batch_normalization_25 (Batc (None, 4, 4, 384)         1536      \n",
      "_________________________________________________________________\n",
      "conv2d_20 (Conv2D)           (None, 2, 2, 256)         884992    \n",
      "_________________________________________________________________\n",
      "activation_29 (Activation)   (None, 2, 2, 256)         0         \n",
      "_________________________________________________________________\n",
      "max_pooling2d_12 (MaxPooling (None, 1, 1, 256)         0         \n",
      "_________________________________________________________________\n",
      "batch_normalization_26 (Batc (None, 1, 1, 256)         1024      \n",
      "_________________________________________________________________\n",
      "flatten_4 (Flatten)          (None, 256)               0         \n",
      "_________________________________________________________________\n",
      "dense_10 (Dense)             (None, 4096)              1052672   \n",
      "_________________________________________________________________\n",
      "activation_30 (Activation)   (None, 4096)              0         \n",
      "_________________________________________________________________\n",
      "dropout_7 (Dropout)          (None, 4096)              0         \n",
      "_________________________________________________________________\n",
      "batch_normalization_27 (Batc (None, 4096)              16384     \n",
      "_________________________________________________________________\n",
      "dense_11 (Dense)             (None, 4096)              16781312  \n",
      "_________________________________________________________________\n",
      "activation_31 (Activation)   (None, 4096)              0         \n",
      "_________________________________________________________________\n",
      "dropout_8 (Dropout)          (None, 4096)              0         \n",
      "_________________________________________________________________\n",
      "batch_normalization_28 (Batc (None, 4096)              16384     \n",
      "_________________________________________________________________\n",
      "dense_12 (Dense)             (None, 2)                 8194      \n",
      "_________________________________________________________________\n",
      "activation_32 (Activation)   (None, 2)                 0         \n",
      "=================================================================\n",
      "Total params: 23,986,946\n",
      "Trainable params: 23,967,810\n",
      "Non-trainable params: 19,136\n",
      "_________________________________________________________________\n"
     ]
    }
   ],
   "source": [
    "%load_ext autoreload\n",
    "%autoreload 2\n",
    "from model_def import create_sdnet_model\n",
    "model = create_sdnet_model()"
   ]
  },
  {
   "cell_type": "code",
   "execution_count": 10,
   "metadata": {},
   "outputs": [],
   "source": [
    "model_path = f'{ROOT_DIR}/models/weight_img_{IMG_TYPE}.hdf5'"
   ]
  },
  {
   "cell_type": "code",
   "execution_count": 20,
   "metadata": {},
   "outputs": [
    {
     "name": "stdout",
     "output_type": "stream",
     "text": [
      "Epoch 1/10\n",
      "88/88 [==============================] - 13s 149ms/step - loss: 1.1619 - acc: 0.7396 - val_loss: 0.5453 - val_acc: 0.8519\n",
      "\n",
      "Epoch 00001: val_loss improved from inf to 0.54532, saving model to /home/khanhhh/data_1/courses/practical_project_1/codes/dataset/SDNET2018//models/weight_img_D.hdf5\n",
      "Epoch 2/10\n",
      "88/88 [==============================] - 11s 127ms/step - loss: 0.4577 - acc: 0.8396 - val_loss: 0.4750 - val_acc: 0.8537\n",
      "\n",
      "Epoch 00002: val_loss improved from 0.54532 to 0.47502, saving model to /home/khanhhh/data_1/courses/practical_project_1/codes/dataset/SDNET2018//models/weight_img_D.hdf5\n",
      "Epoch 3/10\n",
      "88/88 [==============================] - 11s 129ms/step - loss: 0.4607 - acc: 0.8405 - val_loss: 1.0675 - val_acc: 0.8556\n",
      "\n",
      "Epoch 00003: val_loss did not improve from 0.47502\n",
      "Epoch 4/10\n",
      "88/88 [==============================] - 11s 129ms/step - loss: 0.4350 - acc: 0.8467 - val_loss: 0.5028 - val_acc: 0.8469\n",
      "\n",
      "Epoch 00004: val_loss did not improve from 0.47502\n",
      "Epoch 5/10\n",
      "88/88 [==============================] - 11s 129ms/step - loss: 0.4260 - acc: 0.8525 - val_loss: 0.5929 - val_acc: 0.8620\n",
      "\n",
      "Epoch 00005: val_loss did not improve from 0.47502\n",
      "Epoch 6/10\n",
      "88/88 [==============================] - 11s 129ms/step - loss: 0.4302 - acc: 0.8480 - val_loss: 2.3135 - val_acc: 0.8510\n",
      "\n",
      "Epoch 00006: val_loss did not improve from 0.47502\n",
      "Epoch 7/10\n",
      "88/88 [==============================] - 11s 130ms/step - loss: 0.4419 - acc: 0.8474 - val_loss: 0.4657 - val_acc: 0.8519\n",
      "\n",
      "Epoch 00007: val_loss improved from 0.47502 to 0.46570, saving model to /home/khanhhh/data_1/courses/practical_project_1/codes/dataset/SDNET2018//models/weight_img_D.hdf5\n",
      "Epoch 8/10\n",
      "88/88 [==============================] - 11s 130ms/step - loss: 0.4238 - acc: 0.8471 - val_loss: 0.5279 - val_acc: 0.8308\n",
      "\n",
      "Epoch 00008: val_loss did not improve from 0.46570\n",
      "Epoch 9/10\n",
      "88/88 [==============================] - 12s 133ms/step - loss: 0.4182 - acc: 0.8503 - val_loss: 0.4379 - val_acc: 0.8565\n",
      "\n",
      "Epoch 00009: val_loss improved from 0.46570 to 0.43787, saving model to /home/khanhhh/data_1/courses/practical_project_1/codes/dataset/SDNET2018//models/weight_img_D.hdf5\n",
      "Epoch 10/10\n",
      "88/88 [==============================] - 12s 131ms/step - loss: 0.4051 - acc: 0.8565 - val_loss: 0.9014 - val_acc: 0.7084\n",
      "\n",
      "Epoch 00010: val_loss did not improve from 0.43787\n"
     ]
    }
   ],
   "source": [
    "from keras.callbacks import ModelCheckpoint\n",
    "\n",
    "n_epochs = 10\n",
    "\n",
    "check_point = ModelCheckpoint(filepath=model_path, verbose=1, save_best_only=True)\n",
    "\n",
    "history = model.fit_generator(\n",
    "        train_flow,\n",
    "        steps_per_epoch=len(train_flow),\n",
    "        epochs=n_epochs,\n",
    "        validation_data=valid_flow,\n",
    "        validation_steps=len(valid_flow), callbacks=[check_point])"
   ]
  },
  {
   "cell_type": "code",
   "execution_count": 21,
   "metadata": {},
   "outputs": [
    {
     "data": {
      "text/plain": [
       "<matplotlib.legend.Legend at 0x7fe89edf9a58>"
      ]
     },
     "execution_count": 21,
     "metadata": {},
     "output_type": "execute_result"
    },
    {
     "data": {
      "image/png": "[encoded data removed]",
      "text/plain": [
       "<Figure size 432x288 with 1 Axes>"
      ]
     },
     "metadata": {
      "needs_background": "light"
     },
     "output_type": "display_data"
    }
   ],
   "source": [
    "import matplotlib.pyplot as plt\n",
    "x = np.arange(n_epochs)\n",
    "plt.plot(x, history.history['loss'], '-b', label = 'train_loss')\n",
    "plt.plot(x, history.history['val_loss'], '-r', label='validation_loss')\n",
    "plt.legend()"
   ]
  },
  {
   "cell_type": "markdown",
   "metadata": {},
   "source": [
    "# Accuracy on the same image type"
   ]
  },
  {
   "cell_type": "code",
   "execution_count": 66,
   "metadata": {},
   "outputs": [],
   "source": [
    "from sklearn.metrics import precision_score, recall_score, accuracy_score, classification_report\n",
    "def calc_accuracy(model, generator):\n",
    "    preds = model.predict_generator(generator, steps=len(generator))\n",
    "    preds_idx = np.argmax(preds, axis=1) # multiple categories\n",
    "    class_names = [key for key in generator.class_indices.keys()]\n",
    "    report = classification_report(generator.classes, preds_idx, target_names = class_names)\n",
    "    return report"
   ]
  },
  {
   "cell_type": "code",
   "execution_count": 67,
   "metadata": {
    "scrolled": true
   },
   "outputs": [
    {
     "name": "stdout",
     "output_type": "stream",
     "text": [
      "              precision    recall  f1-score   support\n",
      "\n",
      "          CD       0.00      0.00      0.00       422\n",
      "          UD       0.85      1.00      0.92      2303\n",
      "\n",
      "   micro avg       0.84      0.84      0.84      2725\n",
      "   macro avg       0.42      0.50      0.46      2725\n",
      "weighted avg       0.71      0.84      0.77      2725\n",
      "\n"
     ]
    }
   ],
   "source": [
    "import numpy as np\n",
    "model.load_weights(model_path)\n",
    "report = calc_accuracy(model, test_flow)\n",
    "print(report)"
   ]
  },
  {
   "cell_type": "code",
   "execution_count": 83,
   "metadata": {},
   "outputs": [
    {
     "name": "stdout",
     "output_type": "stream",
     "text": [
      "n_test_images = 2725\n"
     ]
    },
    {
     "data": {
      "text/plain": [
       "{'CD': 0, 'UD': 1}"
      ]
     },
     "execution_count": 83,
     "metadata": {},
     "output_type": "execute_result"
    }
   ],
   "source": [
    "print(f'n_test_images = {len(test_flow.classes)}')\n",
    "test_flow.class_indices"
   ]
  },
  {
   "cell_type": "code",
   "execution_count": 82,
   "metadata": {},
   "outputs": [
    {
     "name": "stdout",
     "output_type": "stream",
     "text": [
      "n_crack_pred = 0, n_noncrack_pred = 2725\n"
     ]
    }
   ],
   "source": [
    "preds = model.predict_generator(test_flow, steps=len(test_flow))\n",
    "preds_idx = np.argmax(preds, axis=1) # multiple categories\n",
    "n_crack_pred = np.sum(preds_idx == 0)\n",
    "n_noncrack_pred = np.sum(preds_idx == 1)\n",
    "print(f'n_crack_pred = {n_crack_pred}, n_noncrack_pred = {n_noncrack_pred}')"
   ]
  },
  {
   "cell_type": "markdown",
   "metadata": {},
   "source": [
    "# Accuracy on other image type"
   ]
  },
  {
   "cell_type": "markdown",
   "metadata": {},
   "source": [
    "## image type P"
   ]
  },
  {
   "cell_type": "code",
   "execution_count": 68,
   "metadata": {},
   "outputs": [
    {
     "name": "stdout",
     "output_type": "stream",
     "text": [
      "Found 24334 images belonging to 2 classes.\n"
     ]
    }
   ],
   "source": [
    "IMG_TYPE_1 = 'P'\n",
    "DIR_IN_1 = f'{ROOT_DIR}{IMG_TYPE_1}'\n",
    "test_gen_1 = ImageDataGenerator(rescale=1.0/255)\n",
    "test_flow_1 = test_gen_1.flow_from_directory(\n",
    "        DIR_IN_1,\n",
    "        target_size=(224, 224),\n",
    "        batch_size=100,\n",
    "        class_mode='categorical')"
   ]
  },
  {
   "cell_type": "code",
   "execution_count": 69,
   "metadata": {
    "scrolled": true
   },
   "outputs": [
    {
     "data": {
      "text/plain": [
       "{'CP': 0, 'UP': 1}"
      ]
     },
     "execution_count": 69,
     "metadata": {},
     "output_type": "execute_result"
    }
   ],
   "source": [
    "test_flow_1.class_indices"
   ]
  },
  {
   "cell_type": "code",
   "execution_count": 70,
   "metadata": {},
   "outputs": [],
   "source": [
    "report = calc_accuracy(model, test_flow_1)"
   ]
  },
  {
   "cell_type": "code",
   "execution_count": 80,
   "metadata": {},
   "outputs": [
    {
     "name": "stdout",
     "output_type": "stream",
     "text": [
      "n_crack_pred = 13, n_noncrack_pred = 24321\n"
     ]
    }
   ],
   "source": [
    "preds = model.predict_generator(test_flow_1, steps=len(test_flow_1))\n",
    "preds_idx = np.argmax(preds, axis=1) # multiple categories\n",
    "n_crack_pred = np.sum(preds_idx == 0)\n",
    "n_noncrack_pred = np.sum(preds_idx == 1)\n",
    "print(f'n_crack_pred = {n_crack_pred}, n_noncrack_pred = {n_noncrack_pred}')"
   ]
  },
  {
   "cell_type": "code",
   "execution_count": 73,
   "metadata": {},
   "outputs": [
    {
     "name": "stdout",
     "output_type": "stream",
     "text": [
      "result of model trained on images of type D on images of type P\n",
      "\t n_crack = 2608, n_noncrack = 21726\n",
      "\t crack/noncrack ratio = 0.12004050446469668\n",
      "\n",
      "              precision    recall  f1-score   support\n",
      "\n",
      "          CP       0.15      0.00      0.00      2608\n",
      "          UP       0.89      1.00      0.94     21726\n",
      "\n",
      "   micro avg       0.89      0.89      0.89     24334\n",
      "   macro avg       0.52      0.50      0.47     24334\n",
      "weighted avg       0.81      0.89      0.84     24334\n",
      "\n"
     ]
    }
   ],
   "source": [
    "n_noncrack = np.sum(test_flow_1.classes == 1)\n",
    "n_crack = np.sum(test_flow_1.classes == 0)\n",
    "print(f'result of model trained on images of type {IMG_TYPE} on images of type {IMG_TYPE_1}')\n",
    "print(f'\\t n_crack = {n_crack}, n_noncrack = {n_noncrack}')\n",
    "print(f'\\t crack/noncrack ratio = {float(n_crack)/n_noncrack}')\n",
    "print(f'\\n{report}')"
   ]
  },
  {
   "cell_type": "markdown",
   "metadata": {},
   "source": [
    "## image type W"
   ]
  },
  {
   "cell_type": "code",
   "execution_count": 52,
   "metadata": {},
   "outputs": [
    {
     "name": "stdout",
     "output_type": "stream",
     "text": [
      "Found 18138 images belonging to 2 classes.\n",
      "/home/khanhhh/data_1/courses/practical_project_1/codes/dataset/SDNET2018/W\n"
     ]
    }
   ],
   "source": [
    "IMG_TYPE_2 = 'W'\n",
    "DIR_IN_2 = f'{ROOT_DIR}{IMG_TYPE_2}'\n",
    "test_gen_2 = ImageDataGenerator(rescale=1.0/255)\n",
    "test_flow_2 = test_gen_1.flow_from_directory(\n",
    "        DIR_IN_2,\n",
    "        target_size=(224, 224),\n",
    "        batch_size=100,\n",
    "        class_mode='categorical')\n",
    "print(DIR_IN_2)"
   ]
  },
  {
   "cell_type": "code",
   "execution_count": 53,
   "metadata": {},
   "outputs": [
    {
     "data": {
      "text/plain": [
       "{'CW': 0, 'UW': 1}"
      ]
     },
     "execution_count": 53,
     "metadata": {},
     "output_type": "execute_result"
    }
   ],
   "source": [
    "test_flow_2.class_indices"
   ]
  },
  {
   "cell_type": "code",
   "execution_count": 75,
   "metadata": {},
   "outputs": [],
   "source": [
    "report = calc_accuracy(model, test_flow_2)"
   ]
  },
  {
   "cell_type": "code",
   "execution_count": 76,
   "metadata": {},
   "outputs": [
    {
     "name": "stdout",
     "output_type": "stream",
     "text": [
      "result of model trained on images of type D on images of type W\n",
      "\t n_crack = 3851, n_noncrack = 14287\n",
      "\t crack/noncrack ratio = 0.2695457408833205\n",
      "\n",
      "               precision    recall  f1-score   support\n",
      "\n",
      "          CW       0.20      0.00      0.00      3851\n",
      "          UW       0.79      1.00      0.88     14287\n",
      "\n",
      "   micro avg       0.79      0.79      0.79     18138\n",
      "   macro avg       0.49      0.50      0.44     18138\n",
      "weighted avg       0.66      0.79      0.69     18138\n",
      "\n"
     ]
    }
   ],
   "source": [
    "n_noncrack = np.sum(test_flow_2.classes == 1)\n",
    "n_crack = np.sum(test_flow_2.classes == 0)\n",
    "print(f'result of model trained on images of type {IMG_TYPE} on images of type {IMG_TYPE_2}')\n",
    "print(f'\\t n_crack = {n_crack}, n_noncrack = {n_noncrack}')\n",
    "print(f'\\t crack/noncrack ratio = {float(n_crack)/n_noncrack}')\n",
    "print(f'\\n {report}')"
   ]
  },
  {
   "cell_type": "code",
   "execution_count": null,
   "metadata": {},
   "outputs": [],
   "source": []
  }
 ],
 "metadata": {
  "kernelspec": {
   "display_name": "keras",
   "language": "python",
   "name": "keras"
  },
  "language_info": {
   "codemirror_mode": {
    "name": "ipython",
    "version": 3
   },
   "file_extension": ".py",
   "mimetype": "text/x-python",
   "name": "python",
   "nbconvert_exporter": "python",
   "pygments_lexer": "ipython3",
   "version": "3.6.6"
  },
  "toc": {
   "base_numbering": 1,
   "nav_menu": {},
   "number_sections": true,
   "sideBar": true,
   "skip_h1_title": false,
   "title_cell": "Table of Contents",
   "title_sidebar": "Contents",
   "toc_cell": false,
   "toc_position": {},
   "toc_section_display": true,
   "toc_window_display": false
  }
 },
 "nbformat": 4,
 "nbformat_minor": 2
}
